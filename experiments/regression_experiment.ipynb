{
 "cells": [
  {
   "cell_type": "code",
   "execution_count": 1,
   "metadata": {},
   "outputs": [],
   "source": [
    "%load_ext autoreload\n",
    "%autoreload 2"
   ]
  },
  {
   "cell_type": "code",
   "execution_count": 2,
   "metadata": {},
   "outputs": [],
   "source": [
    "import pandas as pd\n",
    "import numpy as np\n",
    "\n",
    "import sys\n",
    "sys.path.append('..')\n",
    "\n",
    "from helpers import utils, pipelines, models\n",
    "\n",
    "from sklearn.model_selection import train_test_split\n",
    "import resreg\n",
    "\n",
    "import dice_ml\n",
    "\n",
    "import multiprocessing\n",
    "\n",
    "from collections.abc import Iterable\n",
    "from functools import partial\n",
    "\n",
    "from copy import deepcopy"
   ]
  },
  {
   "cell_type": "markdown",
   "metadata": {},
   "source": [
    "### Define research parameters"
   ]
  },
  {
   "cell_type": "code",
   "execution_count": 3,
   "metadata": {},
   "outputs": [],
   "source": [
    "scoring = 'neg_root_mean_squared_error'#neg_root_mean_squared_log_error#r2\n",
    "\n",
    "test_size_proportion=0.2\n",
    "\n",
    "augmentation_proportion = 0.5\n",
    "\n",
    "search_pipelines = pipelines.get_regression_pipelines()\n",
    "search_parameters = models.regression_parameters"
   ]
  },
  {
   "cell_type": "markdown",
   "metadata": {},
   "source": [
    "### Read and preprocess data"
   ]
  },
  {
   "cell_type": "code",
   "execution_count": 4,
   "metadata": {},
   "outputs": [],
   "source": [
    "df = pd.read_csv(r'../datasets/diabetes.txt', sep='\\t')\n",
    "target = 'Y'"
   ]
  },
  {
   "cell_type": "markdown",
   "metadata": {},
   "source": [
    "#### split data"
   ]
  },
  {
   "cell_type": "code",
   "execution_count": 5,
   "metadata": {},
   "outputs": [],
   "source": [
    "# all data\n",
    "X = df.drop(target, axis=1)\n",
    "y = df[target]\n",
    "X_train, X_test, y_train, y_test = train_test_split(X, y, test_size=test_size_proportion, random_state=42)\n",
    "df_train = pd.concat([X_train, y_train], axis=1)"
   ]
  },
  {
   "cell_type": "markdown",
   "metadata": {},
   "source": [
    "### without augmentation scores"
   ]
  },
  {
   "cell_type": "code",
   "execution_count": 6,
   "metadata": {},
   "outputs": [
    {
     "name": "stdout",
     "output_type": "stream",
     "text": [
      "without augmentation neg_root_mean_squared_error scores:\n"
     ]
    },
    {
     "data": {
      "text/html": [
       "<div>\n",
       "<style scoped>\n",
       "    .dataframe tbody tr th:only-of-type {\n",
       "        vertical-align: middle;\n",
       "    }\n",
       "\n",
       "    .dataframe tbody tr th {\n",
       "        vertical-align: top;\n",
       "    }\n",
       "\n",
       "    .dataframe thead th {\n",
       "        text-align: right;\n",
       "    }\n",
       "</style>\n",
       "<table border=\"1\" class=\"dataframe\">\n",
       "  <thead>\n",
       "    <tr style=\"text-align: right;\">\n",
       "      <th></th>\n",
       "      <th>lr</th>\n",
       "      <th>ridge</th>\n",
       "      <th>lasso</th>\n",
       "      <th>rf</th>\n",
       "      <th>xgb</th>\n",
       "    </tr>\n",
       "  </thead>\n",
       "  <tbody>\n",
       "    <tr>\n",
       "      <th>w/o aug neg_root_mean_squared_error score</th>\n",
       "      <td>53.853446</td>\n",
       "      <td>53.842869</td>\n",
       "      <td>53.774196</td>\n",
       "      <td>53.762652</td>\n",
       "      <td>53.92463</td>\n",
       "    </tr>\n",
       "  </tbody>\n",
       "</table>\n",
       "</div>"
      ],
      "text/plain": [
       "                                                  lr      ridge      lasso  \\\n",
       "w/o aug neg_root_mean_squared_error score  53.853446  53.842869  53.774196   \n",
       "\n",
       "                                                  rf       xgb  \n",
       "w/o aug neg_root_mean_squared_error score  53.762652  53.92463  "
      ]
     },
     "metadata": {},
     "output_type": "display_data"
    },
    {
     "data": {
      "text/plain": [
       "<AxesSubplot:>"
      ]
     },
     "execution_count": 6,
     "metadata": {},
     "output_type": "execute_result"
    },
    {
     "data": {
      "image/png": "[encoded data removed]",
      "text/plain": [
       "<Figure size 640x480 with 1 Axes>"
      ]
     },
     "metadata": {},
     "output_type": "display_data"
    }
   ],
   "source": [
    "print(f'without augmentation {scoring} scores:')\n",
    "whole_best_ests, whole_scores = utils.fit_and_evaluate(X_train, y_train, X_test, y_test,\n",
    "                    search_estimators=search_pipelines, search_params=search_parameters, scoring=scoring)\n",
    "whole_dataset_result_df = pd.DataFrame.from_dict(whole_scores, orient='index', columns=[f'w/o aug {scoring} score'])\n",
    "display(whole_dataset_result_df.T)\n",
    "y_train.hist()"
   ]
  },
  {
   "cell_type": "markdown",
   "metadata": {},
   "source": [
    "### Random over sampling "
   ]
  },
  {
   "cell_type": "code",
   "execution_count": 7,
   "metadata": {},
   "outputs": [
    {
     "name": "stdout",
     "output_type": "stream",
     "text": [
      "(353, 10)\n",
      "(529, 10)\n",
      "50.0% aug dataset with Random Over Sampling neg_root_mean_squared_error scores:\n"
     ]
    },
    {
     "data": {
      "text/html": [
       "<div>\n",
       "<style scoped>\n",
       "    .dataframe tbody tr th:only-of-type {\n",
       "        vertical-align: middle;\n",
       "    }\n",
       "\n",
       "    .dataframe tbody tr th {\n",
       "        vertical-align: top;\n",
       "    }\n",
       "\n",
       "    .dataframe thead th {\n",
       "        text-align: right;\n",
       "    }\n",
       "</style>\n",
       "<table border=\"1\" class=\"dataframe\">\n",
       "  <thead>\n",
       "    <tr style=\"text-align: right;\">\n",
       "      <th></th>\n",
       "      <th>lr</th>\n",
       "      <th>ridge</th>\n",
       "      <th>lasso</th>\n",
       "      <th>rf</th>\n",
       "      <th>xgb</th>\n",
       "    </tr>\n",
       "  </thead>\n",
       "  <tbody>\n",
       "    <tr>\n",
       "      <th>ROS neg_root_mean_squared_error score</th>\n",
       "      <td>54.329898</td>\n",
       "      <td>54.305594</td>\n",
       "      <td>54.266014</td>\n",
       "      <td>52.980496</td>\n",
       "      <td>63.883239</td>\n",
       "    </tr>\n",
       "  </tbody>\n",
       "</table>\n",
       "</div>"
      ],
      "text/plain": [
       "                                              lr      ridge      lasso  \\\n",
       "ROS neg_root_mean_squared_error score  54.329898  54.305594  54.266014   \n",
       "\n",
       "                                              rf        xgb  \n",
       "ROS neg_root_mean_squared_error score  52.980496  63.883239  "
      ]
     },
     "metadata": {},
     "output_type": "display_data"
    },
    {
     "data": {
      "text/plain": [
       "<AxesSubplot:>"
      ]
     },
     "metadata": {},
     "output_type": "display_data"
    },
    {
     "data": {
      "image/png": "[encoded data removed]",
      "text/plain": [
       "<Figure size 640x480 with 1 Axes>"
      ]
     },
     "metadata": {},
     "output_type": "display_data"
    }
   ],
   "source": [
    "print(X_train.shape)\n",
    "\n",
    "df_train_ros = pd.concat([df_train, df_train.sample(frac=augmentation_proportion, random_state=42)])\n",
    "X_train_ros = df_train_ros.drop(target, axis=1)\n",
    "y_train_ros = df_train_ros[target]\n",
    "\n",
    "print(X_train_ros.shape)\n",
    "\n",
    "\n",
    "print(f'{augmentation_proportion*100}% aug dataset with Random Over Sampling {scoring} scores:')\n",
    "ros_best_ests, sampled_scores = utils.fit_and_evaluate(X_train_ros, y_train_ros, X_test, y_test,\n",
    "                        search_estimators=search_pipelines, search_params=search_parameters, scoring=scoring)\n",
    "ros_result_df = pd.DataFrame.from_dict(sampled_scores, orient='index', columns=[f'ROS {scoring} score'])\n",
    "display(ros_result_df.T)\n",
    "display(y_train_ros.hist())"
   ]
  },
  {
   "cell_type": "markdown",
   "metadata": {},
   "source": [
    "### random resmapling for balancing"
   ]
  },
  {
   "cell_type": "code",
   "execution_count": 8,
   "metadata": {},
   "outputs": [
    {
     "name": "stdout",
     "output_type": "stream",
     "text": [
      "(394, 10)\n",
      "50.0% aug dataset with balancing Random Over Sampling neg_root_mean_squared_error scores:\n"
     ]
    },
    {
     "data": {
      "text/html": [
       "<div>\n",
       "<style scoped>\n",
       "    .dataframe tbody tr th:only-of-type {\n",
       "        vertical-align: middle;\n",
       "    }\n",
       "\n",
       "    .dataframe tbody tr th {\n",
       "        vertical-align: top;\n",
       "    }\n",
       "\n",
       "    .dataframe thead th {\n",
       "        text-align: right;\n",
       "    }\n",
       "</style>\n",
       "<table border=\"1\" class=\"dataframe\">\n",
       "  <thead>\n",
       "    <tr style=\"text-align: right;\">\n",
       "      <th></th>\n",
       "      <th>lr</th>\n",
       "      <th>ridge</th>\n",
       "      <th>lasso</th>\n",
       "      <th>rf</th>\n",
       "      <th>xgb</th>\n",
       "    </tr>\n",
       "  </thead>\n",
       "  <tbody>\n",
       "    <tr>\n",
       "      <th>RES neg_root_mean_squared_error score</th>\n",
       "      <td>54.407337</td>\n",
       "      <td>54.39879</td>\n",
       "      <td>54.308541</td>\n",
       "      <td>53.811878</td>\n",
       "      <td>54.198043</td>\n",
       "    </tr>\n",
       "  </tbody>\n",
       "</table>\n",
       "</div>"
      ],
      "text/plain": [
       "                                              lr     ridge      lasso  \\\n",
       "RES neg_root_mean_squared_error score  54.407337  54.39879  54.308541   \n",
       "\n",
       "                                              rf        xgb  \n",
       "RES neg_root_mean_squared_error score  53.811878  54.198043  "
      ]
     },
     "metadata": {},
     "output_type": "display_data"
    },
    {
     "data": {
      "text/plain": [
       "<AxesSubplot:>"
      ]
     },
     "execution_count": 8,
     "metadata": {},
     "output_type": "execute_result"
    },
    {
     "data": {
      "image/png": "[encoded data removed]",
      "text/plain": [
       "<Figure size 640x480 with 1 Axes>"
      ]
     },
     "metadata": {},
     "output_type": "display_data"
    }
   ],
   "source": [
    "# Resample training set with random oversampling such that values above and below mean are equal size\n",
    "# relevance = resreg.sigmoid_relevance(y_train, cl=None, ch=np.percentile(y, 50))\n",
    "y_train_mean = y_train.mean()\n",
    "relevance = [1 if y>y_train_mean else 0 for y in y_train]\n",
    "X_train_res, y_train_res = resreg.random_oversample(X_train, y_train, relevance,\n",
    "                                                      relevance_threshold=0.5,\n",
    "                                                      over='balance', random_state=42)\n",
    "\n",
    "X_train_res = pd.DataFrame(X_train_res, columns=X_train.columns).astype(X_train.dtypes)\n",
    "y_train_res = pd.Series(y_train_res, name=target)\n",
    "\n",
    "print(X_train_res.shape)\n",
    "\n",
    "print(f'{augmentation_proportion*100}% aug dataset with balancing Random Over Sampling {scoring} scores:')\n",
    "_, sampled_scores = utils.fit_and_evaluate(X_train_res, y_train_res, X_test, y_test,\n",
    "                        search_estimators=search_pipelines, search_params=search_parameters, scoring=scoring)\n",
    "res_result_df = pd.DataFrame.from_dict(sampled_scores, orient='index', columns=[f'RES {scoring} score'])\n",
    "display(res_result_df.T)\n",
    "y_train_res.hist()"
   ]
  },
  {
   "cell_type": "markdown",
   "metadata": {},
   "source": [
    "### SMOTE \n",
    "in this implementation the rare domain is oversampled and the normal domain is undersampled so that they are equal in size."
   ]
  },
  {
   "cell_type": "code",
   "execution_count": 9,
   "metadata": {},
   "outputs": [
    {
     "name": "stdout",
     "output_type": "stream",
     "text": [
      "(352, 10)\n",
      "50.0% aug dataset with balancing smoter neg_root_mean_squared_error scores:\n"
     ]
    },
    {
     "data": {
      "text/html": [
       "<div>\n",
       "<style scoped>\n",
       "    .dataframe tbody tr th:only-of-type {\n",
       "        vertical-align: middle;\n",
       "    }\n",
       "\n",
       "    .dataframe tbody tr th {\n",
       "        vertical-align: top;\n",
       "    }\n",
       "\n",
       "    .dataframe thead th {\n",
       "        text-align: right;\n",
       "    }\n",
       "</style>\n",
       "<table border=\"1\" class=\"dataframe\">\n",
       "  <thead>\n",
       "    <tr style=\"text-align: right;\">\n",
       "      <th></th>\n",
       "      <th>lr</th>\n",
       "      <th>ridge</th>\n",
       "      <th>lasso</th>\n",
       "      <th>rf</th>\n",
       "      <th>xgb</th>\n",
       "    </tr>\n",
       "  </thead>\n",
       "  <tbody>\n",
       "    <tr>\n",
       "      <th>SMOTER neg_root_mean_squared_error score</th>\n",
       "      <td>54.407337</td>\n",
       "      <td>54.39879</td>\n",
       "      <td>54.308541</td>\n",
       "      <td>53.811878</td>\n",
       "      <td>54.198043</td>\n",
       "    </tr>\n",
       "  </tbody>\n",
       "</table>\n",
       "</div>"
      ],
      "text/plain": [
       "                                                 lr     ridge      lasso  \\\n",
       "SMOTER neg_root_mean_squared_error score  54.407337  54.39879  54.308541   \n",
       "\n",
       "                                                 rf        xgb  \n",
       "SMOTER neg_root_mean_squared_error score  53.811878  54.198043  "
      ]
     },
     "metadata": {},
     "output_type": "display_data"
    },
    {
     "data": {
      "text/plain": [
       "<AxesSubplot:>"
      ]
     },
     "execution_count": 9,
     "metadata": {},
     "output_type": "execute_result"
    },
    {
     "data": {
      "image/png": "[encoded data removed]",
      "text/plain": [
       "<Figure size 640x480 with 1 Axes>"
      ]
     },
     "metadata": {},
     "output_type": "display_data"
    }
   ],
   "source": [
    "# Resample training such that values above and below mean are equal size\n",
    "y_train_mean = y_train.mean()\n",
    "relevance = [1 if y>y_train_mean else 0 for y in y_train]\n",
    "X_train_smoter, y_train_smoter = resreg.smoter(X_train, y_train, relevance,\n",
    "                                                      relevance_threshold=0.5,\n",
    "                                                      nominal=['SEX'],\n",
    "                                                      over='balance', random_state=42)\n",
    "\n",
    "X_train_smoter = pd.DataFrame(X_train_smoter, columns=X_train.columns).astype(X_train.dtypes)\n",
    "y_train_smoter = pd.Series(y_train_smoter, name=target)\n",
    "\n",
    "print(X_train_smoter.shape)\n",
    "\n",
    "print(f'{augmentation_proportion*100}% aug dataset with balancing smoter {scoring} scores:')\n",
    "_, sampled_scores = utils.fit_and_evaluate(X_train_res, y_train_res, X_test, y_test,\n",
    "                        search_estimators=search_pipelines, search_params=search_parameters, scoring=scoring)\n",
    "smoter_result_df = pd.DataFrame.from_dict(sampled_scores, orient='index', columns=[f'SMOTER {scoring} score'])\n",
    "display(smoter_result_df.T)\n",
    "y_train_smoter.hist()"
   ]
  },
  {
   "cell_type": "markdown",
   "metadata": {},
   "source": [
    "### Counter Factuals\n",
    "\n",
    "for now we want to flip values over mean by maximum 1 std"
   ]
  },
  {
   "cell_type": "code",
   "execution_count": 6,
   "metadata": {},
   "outputs": [
    {
     "data": {
      "text/html": [
       "<div>\n",
       "<style scoped>\n",
       "    .dataframe tbody tr th:only-of-type {\n",
       "        vertical-align: middle;\n",
       "    }\n",
       "\n",
       "    .dataframe tbody tr th {\n",
       "        vertical-align: top;\n",
       "    }\n",
       "\n",
       "    .dataframe thead th {\n",
       "        text-align: right;\n",
       "    }\n",
       "</style>\n",
       "<table border=\"1\" class=\"dataframe\">\n",
       "  <thead>\n",
       "    <tr style=\"text-align: right;\">\n",
       "      <th></th>\n",
       "      <th>knn</th>\n",
       "    </tr>\n",
       "  </thead>\n",
       "  <tbody>\n",
       "    <tr>\n",
       "      <th>sampled data neg_root_mean_squared_error score</th>\n",
       "      <td>54.068212</td>\n",
       "    </tr>\n",
       "  </tbody>\n",
       "</table>\n",
       "</div>"
      ],
      "text/plain": [
       "                                                      knn\n",
       "sampled data neg_root_mean_squared_error score  54.068212"
      ]
     },
     "execution_count": 6,
     "metadata": {},
     "output_type": "execute_result"
    }
   ],
   "source": [
    "from sklearn.pipeline import Pipeline\n",
    "from sklearn.neighbors import KNeighborsRegressor\n",
    "\n",
    "knn_pipeline = {'knn': Pipeline([('column_transformer', pipelines.preprocessor),('model', KNeighborsRegressor())])}\n",
    "knn_params = {'knn': {'model__n_neighbors': list(range(1,21)), 'model__weights': ['uniform', 'distance'],\n",
    "                      'model__p': [1,2], 'model__algorithm': ['ball_tree', 'kd_tree', 'brute']}}\n",
    "best_knn_estimator, sampled_scores = utils.fit_and_evaluate(X_train, y_train, X_test, y_test,\n",
    "                        search_estimators=knn_pipeline, search_params=knn_params, scoring=scoring)\n",
    "pd.DataFrame.from_dict(sampled_scores, orient='index', columns=[f'sampled data {scoring} score']).T"
   ]
  },
  {
   "cell_type": "code",
   "execution_count": 7,
   "metadata": {},
   "outputs": [],
   "source": [
    "d = dice_ml.Data(dataframe=df, continuous_features=['AGE', 'BMI', 'BP', 'S1', 'S2', 'S3', 'S4', 'S5', 'S6'], outcome_name=target)\n",
    "m = dice_ml.Model(model=best_knn_estimator['knn'], backend=\"sklearn\", model_type='regressor')"
   ]
  },
  {
   "cell_type": "markdown",
   "metadata": {},
   "source": [
    "#### random"
   ]
  },
  {
   "cell_type": "code",
   "execution_count": 8,
   "metadata": {},
   "outputs": [
    {
     "name": "stdout",
     "output_type": "stream",
     "text": [
      "0/176\n"
     ]
    },
    {
     "name": "stderr",
     "output_type": "stream",
     "text": [
      "100%|██████████| 1/1 [00:00<00:00,  1.84it/s]\n",
      "100%|██████████| 1/1 [00:00<00:00,  2.61it/s]\n",
      "100%|██████████| 1/1 [00:00<00:00,  2.71it/s]\n",
      "100%|██████████| 1/1 [00:00<00:00,  2.56it/s]\n",
      "100%|██████████| 1/1 [00:00<00:00,  2.45it/s]\n",
      "100%|██████████| 1/1 [00:00<00:00,  2.74it/s]\n",
      "100%|██████████| 1/1 [00:00<00:00,  2.76it/s]\n",
      "100%|██████████| 1/1 [00:00<00:00,  2.87it/s]\n",
      "100%|██████████| 1/1 [00:00<00:00,  2.88it/s]\n",
      "100%|██████████| 1/1 [00:00<00:00,  2.61it/s]\n",
      "100%|██████████| 1/1 [00:00<00:00,  2.58it/s]\n",
      "100%|██████████| 1/1 [00:00<00:00,  2.71it/s]\n",
      "100%|██████████| 1/1 [00:00<00:00,  2.75it/s]\n",
      "100%|██████████| 1/1 [00:00<00:00,  2.66it/s]\n",
      "100%|██████████| 1/1 [00:00<00:00,  2.75it/s]\n",
      "100%|██████████| 1/1 [00:00<00:00,  2.72it/s]\n",
      "100%|██████████| 1/1 [00:00<00:00,  2.70it/s]\n",
      "  0%|          | 0/1 [00:00<?, ?it/s]\n",
      "100%|██████████| 1/1 [00:00<00:00,  2.18it/s]\n",
      "100%|██████████| 1/1 [00:00<00:00,  1.38it/s]\n",
      "100%|██████████| 1/1 [00:00<00:00,  1.56it/s]\n",
      "100%|██████████| 1/1 [00:00<00:00,  1.55it/s]\n",
      "100%|██████████| 1/1 [00:00<00:00,  1.39it/s]\n",
      "100%|██████████| 1/1 [00:00<00:00,  1.54it/s]\n",
      "100%|██████████| 1/1 [00:01<00:00,  1.00s/it]\n",
      "100%|██████████| 1/1 [00:00<00:00,  1.37it/s]\n",
      "100%|██████████| 1/1 [00:00<00:00,  1.41it/s]\n",
      "100%|██████████| 1/1 [00:00<00:00,  1.14it/s]\n",
      "100%|██████████| 1/1 [00:00<00:00,  1.38it/s]\n",
      "100%|██████████| 1/1 [00:00<00:00,  1.28it/s]\n",
      "100%|██████████| 1/1 [00:00<00:00,  1.23it/s]\n",
      "  0%|          | 0/1 [00:00<?, ?it/s]"
     ]
    }
   ],
   "source": [
    "cf_method = 'random'\n",
    "exp = dice_ml.Dice(d, m, method=cf_method) # need to check diferent method (random, genetic, kdtree)\n",
    "\n",
    "num_of_samples = int(augmentation_proportion*len(X_train))\n",
    "y_train_min = y_train.min()\n",
    "y_train_max = y_train.max()\n",
    "y_train_mean = y_train.mean()\n",
    "y_train_std = y_train.std()\n",
    "train_dtypes = X_train.dtypes\n",
    "\n",
    "augmented_data = pd.DataFrame()\n",
    "cf_per = 1\n",
    "cf_counter = 0\n",
    "for i, (index, row) in enumerate(X_train.iterrows()):\n",
    "    if cf_counter >= num_of_samples: break\n",
    "    if i%50 == 0: print(f'{i}/{num_of_samples}')\n",
    "    try:\n",
    "        if y_train[index] >= y_train_mean:\n",
    "            # wanted_range = [y_train_mean-y_train_std, y_train_mean]\n",
    "            upper_flip = min(y_train[index]-y_train_std, y_train_mean)\n",
    "            lower_flip = max(y_train_min, upper_flip-y_train_std)\n",
    "            wanted_range = [lower_flip, upper_flip]\n",
    "        else:\n",
    "            # wanted_range = [y_train_mean, y_train_mean+y_train_std]\n",
    "            lower_flip = max(y_train[index]+y_train_std, y_train_mean)\n",
    "            upper_flip = min(y_train_max, lower_flip+y_train_std)\n",
    "            wanted_range = [lower_flip, upper_flip]\n",
    "        e1 = exp.generate_counterfactuals(pd.DataFrame(row).T.astype(train_dtypes), total_CFs=cf_per, desired_range=wanted_range, random_seed=42)\n",
    "                                        #   proximity_weight=1, diversity_weight=0)#, verbose=False)\n",
    "        cf_df = e1.cf_examples_list[0].final_cfs_df\n",
    "        augmented_data = pd.concat([augmented_data, cf_df])\n",
    "        cf_counter += len(cf_df)\n",
    "    except:\n",
    "        pass\n",
    "\n",
    "\n",
    "X_augmented_cf = pd.concat([X_train, augmented_data.drop(target, axis=1)]).astype(X_train.dtypes)\n",
    "y_augmented_cf = pd.concat([y_train, augmented_data[target]])\n",
    "\n",
    "print(f'{augmentation_proportion*100}% aug dataset with {cf_method} CF {scoring} scores:')\n",
    "best_est_cf_random, sampled_scores = utils.fit_and_evaluate(X_augmented_cf, y_augmented_cf, X_test, y_test,\n",
    "                        search_estimators=search_pipelines, search_params=search_parameters, scoring=scoring)\n",
    "random_cf_result_df = pd.DataFrame.from_dict(sampled_scores, orient='index', columns=[f'CF {scoring} score'])\n",
    "display(random_cf_result_df.T)\n",
    "y_augmented_cf.hist()"
   ]
  },
  {
   "cell_type": "markdown",
   "metadata": {},
   "source": [
    "# summary"
   ]
  },
  {
   "cell_type": "code",
   "execution_count": 15,
   "metadata": {},
   "outputs": [
    {
     "data": {
      "text/html": [
       "<div>\n",
       "<style scoped>\n",
       "    .dataframe tbody tr th:only-of-type {\n",
       "        vertical-align: middle;\n",
       "    }\n",
       "\n",
       "    .dataframe tbody tr th {\n",
       "        vertical-align: top;\n",
       "    }\n",
       "\n",
       "    .dataframe thead th {\n",
       "        text-align: right;\n",
       "    }\n",
       "</style>\n",
       "<table border=\"1\" class=\"dataframe\">\n",
       "  <thead>\n",
       "    <tr style=\"text-align: right;\">\n",
       "      <th></th>\n",
       "      <th>w/o aug neg_root_mean_squared_error score</th>\n",
       "      <th>ROS neg_root_mean_squared_error score</th>\n",
       "      <th>RES neg_root_mean_squared_error score</th>\n",
       "      <th>SMOTER neg_root_mean_squared_error score</th>\n",
       "      <th>CF neg_root_mean_squared_error score</th>\n",
       "      <th>CF2 neg_root_mean_squared_error score</th>\n",
       "      <th>CF3 neg_root_mean_squared_error score</th>\n",
       "    </tr>\n",
       "  </thead>\n",
       "  <tbody>\n",
       "    <tr>\n",
       "      <th>lr</th>\n",
       "      <td>53.853446</td>\n",
       "      <td>54.329898</td>\n",
       "      <td>54.407337</td>\n",
       "      <td>54.407337</td>\n",
       "      <td>54.007225</td>\n",
       "      <td>54.007225</td>\n",
       "      <td>54.007225</td>\n",
       "    </tr>\n",
       "    <tr>\n",
       "      <th>ridge</th>\n",
       "      <td>53.842869</td>\n",
       "      <td>54.305594</td>\n",
       "      <td>54.398790</td>\n",
       "      <td>54.398790</td>\n",
       "      <td>54.001259</td>\n",
       "      <td>54.001259</td>\n",
       "      <td>54.001259</td>\n",
       "    </tr>\n",
       "    <tr>\n",
       "      <th>lasso</th>\n",
       "      <td>53.774196</td>\n",
       "      <td>54.266014</td>\n",
       "      <td>54.308541</td>\n",
       "      <td>54.308541</td>\n",
       "      <td>53.437771</td>\n",
       "      <td>53.437771</td>\n",
       "      <td>53.437771</td>\n",
       "    </tr>\n",
       "    <tr>\n",
       "      <th>rf</th>\n",
       "      <td>53.762652</td>\n",
       "      <td>52.980496</td>\n",
       "      <td>53.811878</td>\n",
       "      <td>53.811878</td>\n",
       "      <td>53.652894</td>\n",
       "      <td>53.652894</td>\n",
       "      <td>53.652894</td>\n",
       "    </tr>\n",
       "    <tr>\n",
       "      <th>xgb</th>\n",
       "      <td>53.924630</td>\n",
       "      <td>63.883239</td>\n",
       "      <td>54.198043</td>\n",
       "      <td>54.198043</td>\n",
       "      <td>51.442673</td>\n",
       "      <td>51.442673</td>\n",
       "      <td>51.442673</td>\n",
       "    </tr>\n",
       "  </tbody>\n",
       "</table>\n",
       "</div>"
      ],
      "text/plain": [
       "       w/o aug neg_root_mean_squared_error score  \\\n",
       "lr                                     53.853446   \n",
       "ridge                                  53.842869   \n",
       "lasso                                  53.774196   \n",
       "rf                                     53.762652   \n",
       "xgb                                    53.924630   \n",
       "\n",
       "       ROS neg_root_mean_squared_error score  \\\n",
       "lr                                 54.329898   \n",
       "ridge                              54.305594   \n",
       "lasso                              54.266014   \n",
       "rf                                 52.980496   \n",
       "xgb                                63.883239   \n",
       "\n",
       "       RES neg_root_mean_squared_error score  \\\n",
       "lr                                 54.407337   \n",
       "ridge                              54.398790   \n",
       "lasso                              54.308541   \n",
       "rf                                 53.811878   \n",
       "xgb                                54.198043   \n",
       "\n",
       "       SMOTER neg_root_mean_squared_error score  \\\n",
       "lr                                    54.407337   \n",
       "ridge                                 54.398790   \n",
       "lasso                                 54.308541   \n",
       "rf                                    53.811878   \n",
       "xgb                                   54.198043   \n",
       "\n",
       "       CF neg_root_mean_squared_error score  \\\n",
       "lr                                54.007225   \n",
       "ridge                             54.001259   \n",
       "lasso                             53.437771   \n",
       "rf                                53.652894   \n",
       "xgb                               51.442673   \n",
       "\n",
       "       CF2 neg_root_mean_squared_error score  \\\n",
       "lr                                 54.007225   \n",
       "ridge                              54.001259   \n",
       "lasso                              53.437771   \n",
       "rf                                 53.652894   \n",
       "xgb                                51.442673   \n",
       "\n",
       "       CF3 neg_root_mean_squared_error score  \n",
       "lr                                 54.007225  \n",
       "ridge                              54.001259  \n",
       "lasso                              53.437771  \n",
       "rf                                 53.652894  \n",
       "xgb                                51.442673  "
      ]
     },
     "execution_count": 15,
     "metadata": {},
     "output_type": "execute_result"
    }
   ],
   "source": [
    "result_df = pd.concat([whole_dataset_result_df, ros_result_df, res_result_df, smoter_result_df, random_cf_result_df], axis=1)\n",
    "result_df"
   ]
  },
  {
   "cell_type": "code",
   "execution_count": 16,
   "metadata": {},
   "outputs": [],
   "source": [
    "result_df.to_csv(rf'log/diabetes_{scoring}_{str(int(augmentation_proportion*100))}%.csv') "
   ]
  },
  {
   "cell_type": "code",
   "execution_count": null,
   "metadata": {},
   "outputs": [],
   "source": []
  }
 ],
 "metadata": {
  "kernelspec": {
   "display_name": "Python 3",
   "language": "python",
   "name": "python3"
  },
  "language_info": {
   "codemirror_mode": {
    "name": "ipython",
    "version": 3
   },
   "file_extension": ".py",
   "mimetype": "text/x-python",
   "name": "python",
   "nbconvert_exporter": "python",
   "pygments_lexer": "ipython3",
   "version": "3.9.13"
  }
 },
 "nbformat": 4,
 "nbformat_minor": 2
}
