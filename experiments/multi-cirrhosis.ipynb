{
 "cells": [
  {
   "cell_type": "code",
   "execution_count": 2,
   "metadata": {},
   "outputs": [],
   "source": [
    "%load_ext autoreload\n",
    "%autoreload 2"
   ]
  },
  {
   "cell_type": "code",
   "execution_count": 3,
   "metadata": {},
   "outputs": [],
   "source": [
    "import pandas as pd\n",
    "\n",
    "import sys\n",
    "sys.path.append('..')\n",
    "\n",
    "from helpers import utils, pipelines, models\n",
    "\n",
    "from sklearn.model_selection import train_test_split\n",
    "\n",
    "import multiprocessing\n",
    "\n",
    "from data_augmentaion.data_augmentator import DataAugmentor \n",
    "\n",
    "import json\n",
    "\n",
    "import time"
   ]
  },
  {
   "cell_type": "markdown",
   "metadata": {},
   "source": [
    "### Define research parameters"
   ]
  },
  {
   "cell_type": "code",
   "execution_count": 4,
   "metadata": {},
   "outputs": [],
   "source": [
    "regression_task = False\n",
    "# continuous_features = []\n",
    "metric = 'accuracy'\n",
    "test_size_proportion = 0.2\n",
    "augment_sample = 0.5\n",
    "\n",
    "search_pipelines = pipelines.get_adult_pipelines()\n",
    "search_parameters = models.parameters\n",
    "\n",
    "settings = [\n",
    "    {'method': 'random'},\n",
    "    {'method': 'smote'},\n",
    "    {'method': 'cf_random'},\n",
    "    # {'method': 'cf_genetic', 'kw_args': {'proximity_weight': 0.2, 'diversity_weight': 5, 'sparsity_weight': 0.2}},\n",
    "    # {'method': 'cf_genetic', 'kw_args': {'proximity_weight': 0.2, 'diversity_weight': 5, 'sparsity_weight': 1}},\n",
    "    {'method': 'cf_genetic', 'kw_args': {'proximity_weight': 5, 'diversity_weight': 0.2, 'sparsity_weight': 0.2}},\n",
    "    # {'method': 'cf_genetic', 'kw_args': {'proximity_weight': 5, 'diversity_weight': 0.2, 'sparsity_weight': 1}},\n",
    "    # {'method': 'cf_genetic', 'kw_args': {'proximity_weight': 1, 'diversity_weight': 1, 'sparsity_weight': 0.2}},\n",
    "    # {'method': 'cf_genetic', 'kw_args': {'proximity_weight': 1, 'diversity_weight': 1, 'sparsity_weight': 1}},\n",
    "    # {'method': 'cf_kdtree', 'kw_args': {'sparsity_weight': 0.2}},\n",
    "    # {'method': 'cf_kdtree', 'kw_args': {'sparsity_weight': 1}},\n",
    "]"
   ]
  },
  {
   "cell_type": "code",
   "execution_count": 5,
   "metadata": {},
   "outputs": [],
   "source": [
    "df = pd.read_csv(r\"..\\datasets\\cirrhosis.csv\")\n",
    "df.drop(columns=\"ID\",inplace=True)\n",
    "target = 'Status'"
   ]
  },
  {
   "cell_type": "code",
   "execution_count": 6,
   "metadata": {},
   "outputs": [
    {
     "data": {
      "text/html": [
       "<div>\n",
       "<style scoped>\n",
       "    .dataframe tbody tr th:only-of-type {\n",
       "        vertical-align: middle;\n",
       "    }\n",
       "\n",
       "    .dataframe tbody tr th {\n",
       "        vertical-align: top;\n",
       "    }\n",
       "\n",
       "    .dataframe thead th {\n",
       "        text-align: right;\n",
       "    }\n",
       "</style>\n",
       "<table border=\"1\" class=\"dataframe\">\n",
       "  <thead>\n",
       "    <tr style=\"text-align: right;\">\n",
       "      <th></th>\n",
       "      <th>0</th>\n",
       "      <th>1</th>\n",
       "    </tr>\n",
       "  </thead>\n",
       "  <tbody>\n",
       "    <tr>\n",
       "      <th>N_Days</th>\n",
       "      <td>0</td>\n",
       "      <td>int64</td>\n",
       "    </tr>\n",
       "    <tr>\n",
       "      <th>Status</th>\n",
       "      <td>0</td>\n",
       "      <td>object</td>\n",
       "    </tr>\n",
       "    <tr>\n",
       "      <th>Drug</th>\n",
       "      <td>106</td>\n",
       "      <td>object</td>\n",
       "    </tr>\n",
       "    <tr>\n",
       "      <th>Age</th>\n",
       "      <td>0</td>\n",
       "      <td>int64</td>\n",
       "    </tr>\n",
       "    <tr>\n",
       "      <th>Sex</th>\n",
       "      <td>0</td>\n",
       "      <td>object</td>\n",
       "    </tr>\n",
       "    <tr>\n",
       "      <th>Ascites</th>\n",
       "      <td>106</td>\n",
       "      <td>object</td>\n",
       "    </tr>\n",
       "    <tr>\n",
       "      <th>Hepatomegaly</th>\n",
       "      <td>106</td>\n",
       "      <td>object</td>\n",
       "    </tr>\n",
       "    <tr>\n",
       "      <th>Spiders</th>\n",
       "      <td>106</td>\n",
       "      <td>object</td>\n",
       "    </tr>\n",
       "    <tr>\n",
       "      <th>Edema</th>\n",
       "      <td>0</td>\n",
       "      <td>object</td>\n",
       "    </tr>\n",
       "    <tr>\n",
       "      <th>Bilirubin</th>\n",
       "      <td>0</td>\n",
       "      <td>float64</td>\n",
       "    </tr>\n",
       "    <tr>\n",
       "      <th>Cholesterol</th>\n",
       "      <td>134</td>\n",
       "      <td>float64</td>\n",
       "    </tr>\n",
       "    <tr>\n",
       "      <th>Albumin</th>\n",
       "      <td>0</td>\n",
       "      <td>float64</td>\n",
       "    </tr>\n",
       "    <tr>\n",
       "      <th>Copper</th>\n",
       "      <td>108</td>\n",
       "      <td>float64</td>\n",
       "    </tr>\n",
       "    <tr>\n",
       "      <th>Alk_Phos</th>\n",
       "      <td>106</td>\n",
       "      <td>float64</td>\n",
       "    </tr>\n",
       "    <tr>\n",
       "      <th>SGOT</th>\n",
       "      <td>106</td>\n",
       "      <td>float64</td>\n",
       "    </tr>\n",
       "    <tr>\n",
       "      <th>Tryglicerides</th>\n",
       "      <td>136</td>\n",
       "      <td>float64</td>\n",
       "    </tr>\n",
       "    <tr>\n",
       "      <th>Platelets</th>\n",
       "      <td>11</td>\n",
       "      <td>float64</td>\n",
       "    </tr>\n",
       "    <tr>\n",
       "      <th>Prothrombin</th>\n",
       "      <td>2</td>\n",
       "      <td>float64</td>\n",
       "    </tr>\n",
       "    <tr>\n",
       "      <th>Stage</th>\n",
       "      <td>6</td>\n",
       "      <td>float64</td>\n",
       "    </tr>\n",
       "  </tbody>\n",
       "</table>\n",
       "</div>"
      ],
      "text/plain": [
       "                 0        1\n",
       "N_Days           0    int64\n",
       "Status           0   object\n",
       "Drug           106   object\n",
       "Age              0    int64\n",
       "Sex              0   object\n",
       "Ascites        106   object\n",
       "Hepatomegaly   106   object\n",
       "Spiders        106   object\n",
       "Edema            0   object\n",
       "Bilirubin        0  float64\n",
       "Cholesterol    134  float64\n",
       "Albumin          0  float64\n",
       "Copper         108  float64\n",
       "Alk_Phos       106  float64\n",
       "SGOT           106  float64\n",
       "Tryglicerides  136  float64\n",
       "Platelets       11  float64\n",
       "Prothrombin      2  float64\n",
       "Stage            6  float64"
      ]
     },
     "execution_count": 6,
     "metadata": {},
     "output_type": "execute_result"
    }
   ],
   "source": [
    "missing_df = df.isna().sum()\n",
    "dtypes_df = df.dtypes\n",
    "pd.concat([missing_df, dtypes_df], axis=1)"
   ]
  },
  {
   "cell_type": "code",
   "execution_count": 7,
   "metadata": {},
   "outputs": [],
   "source": [
    "from sklearn.impute import SimpleImputer\n",
    "from sklearn.compose import ColumnTransformer, make_column_selector\n",
    "\n",
    "\n",
    "numerical_imputer = SimpleImputer(strategy='mean')#.set_output(transform='pandas')\n",
    "categorical_imputer = SimpleImputer(strategy='most_frequent')#.set_output(transform='pandas')\n",
    "\n",
    "final_imputer = ColumnTransformer([\n",
    "    ('numerical', numerical_imputer, make_column_selector(dtype_include=['int', 'float'])),\n",
    "    ('categorical', categorical_imputer, make_column_selector(dtype_include=['object'])),\n",
    "])\n",
    "\n",
    "df = final_imputer.fit_transform(df)"
   ]
  },
  {
   "cell_type": "code",
   "execution_count": 8,
   "metadata": {},
   "outputs": [],
   "source": [
    "df = pd.DataFrame(df, columns=[c.split('__')[-1] for c in final_imputer.get_feature_names_out()]).astype(dtypes_df)"
   ]
  },
  {
   "cell_type": "code",
   "execution_count": 9,
   "metadata": {},
   "outputs": [],
   "source": [
    "from sklearn.preprocessing import LabelEncoder\n",
    "le = LabelEncoder()\n",
    "df[target] = le.fit_transform(df[target])"
   ]
  },
  {
   "cell_type": "markdown",
   "metadata": {},
   "source": [
    "#### split data"
   ]
  },
  {
   "cell_type": "code",
   "execution_count": 10,
   "metadata": {},
   "outputs": [],
   "source": [
    "# all data\n",
    "X = df.drop(target, axis=1)\n",
    "y = df[target]\n",
    "X_train, X_test, y_train, y_test = train_test_split(X, y, test_size=test_size_proportion, random_state=42)"
   ]
  },
  {
   "cell_type": "code",
   "execution_count": 11,
   "metadata": {},
   "outputs": [
    {
     "data": {
      "text/plain": [
       "['N_Days',\n",
       " 'Age',\n",
       " 'Bilirubin',\n",
       " 'Cholesterol',\n",
       " 'Albumin',\n",
       " 'Copper',\n",
       " 'Alk_Phos',\n",
       " 'SGOT',\n",
       " 'Tryglicerides',\n",
       " 'Platelets',\n",
       " 'Prothrombin',\n",
       " 'Stage']"
      ]
     },
     "execution_count": 11,
     "metadata": {},
     "output_type": "execute_result"
    }
   ],
   "source": [
    "continuous_features = X.select_dtypes(include=['number']).columns.tolist()\n",
    "continuous_features"
   ]
  },
  {
   "cell_type": "code",
   "execution_count": 12,
   "metadata": {},
   "outputs": [
    {
     "data": {
      "text/plain": [
       "0    188\n",
       "2    125\n",
       "1     21\n",
       "Name: Status, dtype: int64"
      ]
     },
     "metadata": {},
     "output_type": "display_data"
    }
   ],
   "source": [
    "display(y_train.value_counts())"
   ]
  },
  {
   "cell_type": "code",
   "execution_count": 13,
   "metadata": {},
   "outputs": [],
   "source": [
    "full_results_df = pd.DataFrame()"
   ]
  },
  {
   "cell_type": "markdown",
   "metadata": {},
   "source": [
    "### Whole dataset scores"
   ]
  },
  {
   "cell_type": "code",
   "execution_count": 14,
   "metadata": {},
   "outputs": [
    {
     "name": "stdout",
     "output_type": "stream",
     "text": [
      "whole adult dataset accuracy scores:\n"
     ]
    },
    {
     "data": {
      "text/html": [
       "<div>\n",
       "<style scoped>\n",
       "    .dataframe tbody tr th:only-of-type {\n",
       "        vertical-align: middle;\n",
       "    }\n",
       "\n",
       "    .dataframe tbody tr th {\n",
       "        vertical-align: top;\n",
       "    }\n",
       "\n",
       "    .dataframe thead th {\n",
       "        text-align: right;\n",
       "    }\n",
       "</style>\n",
       "<table border=\"1\" class=\"dataframe\">\n",
       "  <thead>\n",
       "    <tr style=\"text-align: right;\">\n",
       "      <th></th>\n",
       "      <th>lg</th>\n",
       "      <th>rf</th>\n",
       "      <th>xgb</th>\n",
       "    </tr>\n",
       "  </thead>\n",
       "  <tbody>\n",
       "    <tr>\n",
       "      <th>full data accuracy score</th>\n",
       "      <td>0.738095</td>\n",
       "      <td>0.797619</td>\n",
       "      <td>0.761905</td>\n",
       "    </tr>\n",
       "  </tbody>\n",
       "</table>\n",
       "</div>"
      ],
      "text/plain": [
       "                                lg        rf       xgb\n",
       "full data accuracy score  0.738095  0.797619  0.761905"
      ]
     },
     "metadata": {},
     "output_type": "display_data"
    }
   ],
   "source": [
    "print(f'whole adult dataset {metric} scores:')\n",
    "_, whole_scores = utils.fit_and_evaluate(X_train, y_train, X_test, y_test,\n",
    "                    search_estimators=search_pipelines, search_params=search_parameters, scoring=metric)\n",
    "whole_dataset_result_df = pd.DataFrame.from_dict(whole_scores, orient='index', columns=[f'full data {metric} score'])\n",
    "display(whole_dataset_result_df.T)"
   ]
  },
  {
   "cell_type": "code",
   "execution_count": 15,
   "metadata": {},
   "outputs": [],
   "source": [
    "full_results_df = pd.concat([full_results_df, whole_dataset_result_df], axis=1)"
   ]
  },
  {
   "cell_type": "markdown",
   "metadata": {},
   "source": [
    "### little flattening the y-curve"
   ]
  },
  {
   "cell_type": "code",
   "execution_count": 16,
   "metadata": {},
   "outputs": [
    {
     "data": {
      "text/plain": [
       "0    188\n",
       "2    125\n",
       "1     21\n",
       "Name: Status, dtype: int64"
      ]
     },
     "metadata": {},
     "output_type": "display_data"
    },
    {
     "data": {
      "text/plain": [
       "1    29\n",
       "Name: Status, dtype: int64"
      ]
     },
     "execution_count": 16,
     "metadata": {},
     "output_type": "execute_result"
    }
   ],
   "source": [
    "y_train_value_counts = y_train.value_counts()\n",
    "display(y_train_value_counts)\n",
    "classes_to_50_gap = 50 - y_train.value_counts()\n",
    "classes_to_inflate = classes_to_50_gap[classes_to_50_gap>0]\n",
    "df_inflate = pd.DataFrame()\n",
    "for c, gap in classes_to_inflate.items():\n",
    "    df_c_inflate = df[df[target]==c].sample(n=gap, replace=True, random_state=42)\n",
    "    df_inflate = pd.concat([df_inflate, df_c_inflate])\n",
    "df_inflate[target].value_counts()\n"
   ]
  },
  {
   "cell_type": "code",
   "execution_count": 17,
   "metadata": {},
   "outputs": [],
   "source": [
    "df_full_inflate = pd.concat([df, df_inflate])\n",
    "X_inflate = df_full_inflate.drop(target, axis=1)\n",
    "y_inflate = df_full_inflate[target]\n",
    "X_train_inflate, X_test_inflate, y_train_inflate, y_test_inflate = train_test_split(X_inflate, y_inflate, test_size=test_size_proportion, random_state=42)"
   ]
  },
  {
   "cell_type": "code",
   "execution_count": 18,
   "metadata": {},
   "outputs": [
    {
     "name": "stdout",
     "output_type": "stream",
     "text": [
      "inflate dataset accuracy scores:\n"
     ]
    },
    {
     "data": {
      "text/html": [
       "<div>\n",
       "<style scoped>\n",
       "    .dataframe tbody tr th:only-of-type {\n",
       "        vertical-align: middle;\n",
       "    }\n",
       "\n",
       "    .dataframe tbody tr th {\n",
       "        vertical-align: top;\n",
       "    }\n",
       "\n",
       "    .dataframe thead th {\n",
       "        text-align: right;\n",
       "    }\n",
       "</style>\n",
       "<table border=\"1\" class=\"dataframe\">\n",
       "  <thead>\n",
       "    <tr style=\"text-align: right;\">\n",
       "      <th></th>\n",
       "      <th>lg</th>\n",
       "      <th>rf</th>\n",
       "      <th>xgb</th>\n",
       "    </tr>\n",
       "  </thead>\n",
       "  <tbody>\n",
       "    <tr>\n",
       "      <th>inflate data accuracy score</th>\n",
       "      <td>0.711111</td>\n",
       "      <td>0.655556</td>\n",
       "      <td>0.788889</td>\n",
       "    </tr>\n",
       "  </tbody>\n",
       "</table>\n",
       "</div>"
      ],
      "text/plain": [
       "                                   lg        rf       xgb\n",
       "inflate data accuracy score  0.711111  0.655556  0.788889"
      ]
     },
     "metadata": {},
     "output_type": "display_data"
    }
   ],
   "source": [
    "print(f'inflate dataset {metric} scores:')\n",
    "_, inflate_scores = utils.fit_and_evaluate(X_train_inflate, y_train_inflate, X_test_inflate, y_test_inflate,\n",
    "                    search_estimators=search_pipelines, search_params=search_parameters, scoring=metric)\n",
    "inflate_dataset_result_df = pd.DataFrame.from_dict(inflate_scores, orient='index', columns=[f'inflate data {metric} score'])\n",
    "display(inflate_dataset_result_df.T)"
   ]
  },
  {
   "cell_type": "code",
   "execution_count": null,
   "metadata": {},
   "outputs": [],
   "source": [
    "full_results_df = pd.concat([full_results_df, inflate_dataset_result_df], axis=1)"
   ]
  },
  {
   "cell_type": "markdown",
   "metadata": {},
   "source": [
    "### running experiments"
   ]
  },
  {
   "cell_type": "code",
   "execution_count": 15,
   "metadata": {},
   "outputs": [
    {
     "name": "stdout",
     "output_type": "stream",
     "text": [
      "0 / 4, {'method': 'random'} categorical_feats: ['Drug', 'Sex', 'Ascites', 'Hepatomegaly', 'Spiders', 'Edema']\n"
     ]
    },
    {
     "data": {
      "text/html": [
       "<div>\n",
       "<style scoped>\n",
       "    .dataframe tbody tr th:only-of-type {\n",
       "        vertical-align: middle;\n",
       "    }\n",
       "\n",
       "    .dataframe tbody tr th {\n",
       "        vertical-align: top;\n",
       "    }\n",
       "\n",
       "    .dataframe thead th {\n",
       "        text-align: right;\n",
       "    }\n",
       "</style>\n",
       "<table border=\"1\" class=\"dataframe\">\n",
       "  <thead>\n",
       "    <tr style=\"text-align: right;\">\n",
       "      <th></th>\n",
       "      <th>full data accuracy score</th>\n",
       "      <th>[\"random\"] balanced accuracy score</th>\n",
       "      <th>[\"random\"] accuracy score</th>\n",
       "    </tr>\n",
       "  </thead>\n",
       "  <tbody>\n",
       "    <tr>\n",
       "      <th>lg</th>\n",
       "      <td>0.738095</td>\n",
       "      <td>0.702381</td>\n",
       "      <td>0.761905</td>\n",
       "    </tr>\n",
       "    <tr>\n",
       "      <th>rf</th>\n",
       "      <td>0.797619</td>\n",
       "      <td>0.750000</td>\n",
       "      <td>0.809524</td>\n",
       "    </tr>\n",
       "    <tr>\n",
       "      <th>xgb</th>\n",
       "      <td>0.761905</td>\n",
       "      <td>0.750000</td>\n",
       "      <td>0.750000</td>\n",
       "    </tr>\n",
       "  </tbody>\n",
       "</table>\n",
       "</div>"
      ],
      "text/plain": [
       "     full data accuracy score  [\"random\"] balanced accuracy score  \\\n",
       "lg                   0.738095                            0.702381   \n",
       "rf                   0.797619                            0.750000   \n",
       "xgb                  0.761905                            0.750000   \n",
       "\n",
       "     [\"random\"] accuracy score  \n",
       "lg                    0.761905  \n",
       "rf                    0.809524  \n",
       "xgb                   0.750000  "
      ]
     },
     "metadata": {},
     "output_type": "display_data"
    },
    {
     "name": "stdout",
     "output_type": "stream",
     "text": [
      "9.455303192138672 seconds for settings 0\n",
      "1 / 4, {'method': 'smote'} categorical_feats: ['Drug', 'Sex', 'Ascites', 'Hepatomegaly', 'Spiders', 'Edema']\n"
     ]
    },
    {
     "data": {
      "text/html": [
       "<div>\n",
       "<style scoped>\n",
       "    .dataframe tbody tr th:only-of-type {\n",
       "        vertical-align: middle;\n",
       "    }\n",
       "\n",
       "    .dataframe tbody tr th {\n",
       "        vertical-align: top;\n",
       "    }\n",
       "\n",
       "    .dataframe thead th {\n",
       "        text-align: right;\n",
       "    }\n",
       "</style>\n",
       "<table border=\"1\" class=\"dataframe\">\n",
       "  <thead>\n",
       "    <tr style=\"text-align: right;\">\n",
       "      <th></th>\n",
       "      <th>full data accuracy score</th>\n",
       "      <th>[\"random\"] balanced accuracy score</th>\n",
       "      <th>[\"random\"] accuracy score</th>\n",
       "      <th>[\"smote\"] balanced accuracy score</th>\n",
       "      <th>[\"smote\"] accuracy score</th>\n",
       "    </tr>\n",
       "  </thead>\n",
       "  <tbody>\n",
       "    <tr>\n",
       "      <th>lg</th>\n",
       "      <td>0.738095</td>\n",
       "      <td>0.702381</td>\n",
       "      <td>0.761905</td>\n",
       "      <td>0.642857</td>\n",
       "      <td>0.642857</td>\n",
       "    </tr>\n",
       "    <tr>\n",
       "      <th>rf</th>\n",
       "      <td>0.797619</td>\n",
       "      <td>0.750000</td>\n",
       "      <td>0.809524</td>\n",
       "      <td>0.761905</td>\n",
       "      <td>0.761905</td>\n",
       "    </tr>\n",
       "    <tr>\n",
       "      <th>xgb</th>\n",
       "      <td>0.761905</td>\n",
       "      <td>0.750000</td>\n",
       "      <td>0.750000</td>\n",
       "      <td>0.738095</td>\n",
       "      <td>0.738095</td>\n",
       "    </tr>\n",
       "  </tbody>\n",
       "</table>\n",
       "</div>"
      ],
      "text/plain": [
       "     full data accuracy score  [\"random\"] balanced accuracy score  \\\n",
       "lg                   0.738095                            0.702381   \n",
       "rf                   0.797619                            0.750000   \n",
       "xgb                  0.761905                            0.750000   \n",
       "\n",
       "     [\"random\"] accuracy score  [\"smote\"] balanced accuracy score  \\\n",
       "lg                    0.761905                           0.642857   \n",
       "rf                    0.809524                           0.761905   \n",
       "xgb                   0.750000                           0.738095   \n",
       "\n",
       "     [\"smote\"] accuracy score  \n",
       "lg                   0.642857  \n",
       "rf                   0.761905  \n",
       "xgb                  0.738095  "
      ]
     },
     "metadata": {},
     "output_type": "display_data"
    },
    {
     "name": "stdout",
     "output_type": "stream",
     "text": [
      "9.954652070999146 seconds for settings 1\n",
      "2 / 4, {'method': 'cf_random'} categorical_feats: ['Drug', 'Sex', 'Ascites', 'Hepatomegaly', 'Spiders', 'Edema']\n",
      "0/63\n"
     ]
    },
    {
     "name": "stderr",
     "output_type": "stream",
     "text": [
      "100%|██████████| 1/1 [00:00<00:00,  3.87it/s]\n",
      "100%|██████████| 1/1 [00:00<00:00,  4.87it/s]\n",
      "100%|██████████| 1/1 [00:00<00:00,  6.33it/s]\n",
      "100%|██████████| 1/1 [00:00<00:00,  5.80it/s]\n",
      "100%|██████████| 1/1 [00:00<00:00,  5.76it/s]\n",
      "100%|██████████| 1/1 [00:00<00:00,  6.82it/s]\n",
      "100%|██████████| 1/1 [00:00<00:00,  7.07it/s]\n",
      "100%|██████████| 1/1 [00:00<00:00,  7.50it/s]\n",
      "100%|██████████| 1/1 [00:00<00:00,  7.06it/s]\n",
      "100%|██████████| 1/1 [00:00<00:00,  3.78it/s]\n",
      "100%|██████████| 1/1 [00:00<00:00,  6.30it/s]\n",
      "100%|██████████| 1/1 [00:00<00:00,  3.08it/s]\n",
      "100%|██████████| 1/1 [00:00<00:00,  5.30it/s]\n",
      "100%|██████████| 1/1 [00:00<00:00,  5.92it/s]\n",
      "100%|██████████| 1/1 [00:00<00:00,  4.90it/s]\n",
      "100%|██████████| 1/1 [00:00<00:00,  6.33it/s]\n",
      "100%|██████████| 1/1 [00:00<00:00,  7.10it/s]\n",
      "100%|██████████| 1/1 [00:00<00:00,  7.05it/s]\n",
      "100%|██████████| 1/1 [00:00<00:00,  7.06it/s]\n",
      "100%|██████████| 1/1 [00:00<00:00,  7.04it/s]\n",
      "100%|██████████| 1/1 [00:00<00:00,  7.10it/s]\n",
      "100%|██████████| 1/1 [00:00<00:00,  6.33it/s]\n",
      "100%|██████████| 1/1 [00:00<00:00,  6.38it/s]\n",
      "100%|██████████| 1/1 [00:00<00:00,  6.32it/s]\n",
      "100%|██████████| 1/1 [00:00<00:00,  6.95it/s]\n",
      "100%|██████████| 1/1 [00:00<00:00,  7.20it/s]\n",
      "100%|██████████| 1/1 [00:00<00:00,  6.34it/s]\n",
      "100%|██████████| 1/1 [00:00<00:00,  5.31it/s]\n",
      "100%|██████████| 1/1 [00:00<00:00,  7.08it/s]\n",
      "100%|██████████| 1/1 [00:00<00:00,  7.96it/s]\n",
      "100%|██████████| 1/1 [00:00<00:00,  7.92it/s]\n",
      "100%|██████████| 1/1 [00:00<00:00,  8.70it/s]\n",
      "100%|██████████| 1/1 [00:00<00:00,  6.33it/s]\n",
      "100%|██████████| 1/1 [00:00<00:00,  6.17it/s]\n",
      "100%|██████████| 1/1 [00:00<00:00,  6.37it/s]\n",
      "100%|██████████| 1/1 [00:00<00:00,  2.88it/s]\n",
      "100%|██████████| 1/1 [00:00<00:00,  2.79it/s]\n",
      "100%|██████████| 1/1 [00:00<00:00,  4.00it/s]\n",
      "100%|██████████| 1/1 [00:00<00:00,  3.04it/s]\n",
      "100%|██████████| 1/1 [00:00<00:00,  7.94it/s]\n",
      "100%|██████████| 1/1 [00:00<00:00,  7.07it/s]\n",
      "100%|██████████| 1/1 [00:00<00:00,  6.36it/s]\n",
      "100%|██████████| 1/1 [00:00<00:00,  6.37it/s]\n",
      "100%|██████████| 1/1 [00:00<00:00,  7.01it/s]\n",
      "100%|██████████| 1/1 [00:00<00:00,  3.62it/s]\n",
      "100%|██████████| 1/1 [00:00<00:00,  4.88it/s]\n",
      "100%|██████████| 1/1 [00:00<00:00,  4.24it/s]\n",
      "100%|██████████| 1/1 [00:00<00:00,  3.02it/s]\n",
      "100%|██████████| 1/1 [00:00<00:00,  5.79it/s]\n",
      "100%|██████████| 1/1 [00:00<00:00,  5.90it/s]\n"
     ]
    },
    {
     "name": "stdout",
     "output_type": "stream",
     "text": [
      "50/63\n"
     ]
    },
    {
     "name": "stderr",
     "output_type": "stream",
     "text": [
      "100%|██████████| 1/1 [00:00<00:00,  5.75it/s]\n",
      "100%|██████████| 1/1 [00:00<00:00,  6.32it/s]\n",
      "100%|██████████| 1/1 [00:00<00:00,  4.66it/s]\n",
      "100%|██████████| 1/1 [00:00<00:00,  6.38it/s]\n",
      "100%|██████████| 1/1 [00:01<00:00,  1.26s/it]\n",
      "100%|██████████| 1/1 [00:00<00:00,  4.23it/s]\n",
      "100%|██████████| 1/1 [00:00<00:00,  2.35it/s]\n",
      "100%|██████████| 1/1 [00:00<00:00,  2.35it/s]\n",
      "100%|██████████| 1/1 [00:00<00:00,  3.34it/s]\n",
      "100%|██████████| 1/1 [00:00<00:00,  2.62it/s]\n",
      "100%|██████████| 1/1 [00:00<00:00,  3.02it/s]\n",
      "100%|██████████| 1/1 [00:00<00:00,  2.88it/s]\n",
      "100%|██████████| 1/1 [00:00<00:00,  5.29it/s]\n"
     ]
    },
    {
     "name": "stdout",
     "output_type": "stream",
     "text": [
      "0/167\n"
     ]
    },
    {
     "name": "stderr",
     "output_type": "stream",
     "text": [
      "100%|██████████| 1/1 [00:00<00:00,  2.30it/s]\n",
      "100%|██████████| 1/1 [00:00<00:00,  1.50it/s]\n",
      "100%|██████████| 1/1 [00:00<00:00,  5.08it/s]\n",
      "100%|██████████| 1/1 [00:00<00:00,  4.35it/s]\n",
      "100%|██████████| 1/1 [00:00<00:00,  4.25it/s]\n",
      "100%|██████████| 1/1 [00:00<00:00,  2.11it/s]\n",
      "100%|██████████| 1/1 [00:00<00:00,  2.49it/s]\n",
      "100%|██████████| 1/1 [00:00<00:00,  2.72it/s]\n",
      "100%|██████████| 1/1 [00:00<00:00,  2.04it/s]\n",
      "100%|██████████| 1/1 [00:00<00:00,  3.91it/s]\n",
      "100%|██████████| 1/1 [00:00<00:00,  4.84it/s]\n",
      "100%|██████████| 1/1 [00:00<00:00,  6.31it/s]\n",
      "100%|██████████| 1/1 [00:00<00:00,  4.22it/s]\n",
      "100%|██████████| 1/1 [00:00<00:00,  4.35it/s]\n",
      "100%|██████████| 1/1 [00:00<00:00,  3.25it/s]\n",
      "100%|██████████| 1/1 [00:00<00:00,  3.43it/s]\n",
      "100%|██████████| 1/1 [00:00<00:00,  2.77it/s]\n",
      "100%|██████████| 1/1 [00:00<00:00,  2.12it/s]\n",
      "100%|██████████| 1/1 [00:00<00:00,  2.17it/s]\n",
      "100%|██████████| 1/1 [00:00<00:00,  3.55it/s]\n",
      "100%|██████████| 1/1 [00:00<00:00,  2.03it/s]\n",
      "100%|██████████| 1/1 [00:00<00:00,  2.72it/s]\n",
      "100%|██████████| 1/1 [00:00<00:00,  2.02it/s]\n",
      "100%|██████████| 1/1 [00:00<00:00,  2.40it/s]\n",
      "100%|██████████| 1/1 [00:00<00:00,  5.28it/s]\n",
      "100%|██████████| 1/1 [00:00<00:00,  4.14it/s]\n",
      "100%|██████████| 1/1 [00:00<00:00,  3.38it/s]\n",
      "100%|██████████| 1/1 [00:00<00:00,  1.91it/s]\n",
      "100%|██████████| 1/1 [00:00<00:00,  2.65it/s]\n",
      "100%|██████████| 1/1 [00:00<00:00,  2.25it/s]\n",
      "100%|██████████| 1/1 [00:00<00:00,  1.13it/s]\n"
     ]
    },
    {
     "name": "stdout",
     "output_type": "stream",
     "text": [
      "No Counterfactuals found for the given configuration, perhaps try with different parameters... ; total time taken: 00 min 00 sec\n"
     ]
    },
    {
     "name": "stderr",
     "output_type": "stream",
     "text": [
      "100%|██████████| 1/1 [00:00<00:00,  1.81it/s]\n",
      "100%|██████████| 1/1 [00:00<00:00,  2.75it/s]\n",
      "100%|██████████| 1/1 [00:00<00:00,  4.49it/s]\n",
      "100%|██████████| 1/1 [00:00<00:00,  2.96it/s]\n",
      "100%|██████████| 1/1 [00:00<00:00,  5.27it/s]\n",
      "100%|██████████| 1/1 [00:00<00:00,  4.19it/s]\n",
      "100%|██████████| 1/1 [00:00<00:00,  4.00it/s]\n",
      "100%|██████████| 1/1 [00:00<00:00,  6.33it/s]\n",
      "100%|██████████| 1/1 [00:00<00:00,  5.68it/s]\n",
      "100%|██████████| 1/1 [00:00<00:00,  3.76it/s]\n",
      "100%|██████████| 1/1 [00:00<00:00,  5.52it/s]\n",
      "100%|██████████| 1/1 [00:00<00:00,  7.06it/s]\n",
      "100%|██████████| 1/1 [00:00<00:00,  5.74it/s]\n",
      "100%|██████████| 1/1 [00:00<00:00,  2.35it/s]\n",
      "100%|██████████| 1/1 [00:00<00:00,  3.72it/s]\n",
      "100%|██████████| 1/1 [00:00<00:00,  2.33it/s]\n",
      "100%|██████████| 1/1 [00:00<00:00,  2.37it/s]\n",
      "100%|██████████| 1/1 [00:00<00:00,  3.22it/s]\n",
      "100%|██████████| 1/1 [00:00<00:00,  5.30it/s]\n",
      "100%|██████████| 1/1 [00:00<00:00,  4.51it/s]\n"
     ]
    },
    {
     "name": "stdout",
     "output_type": "stream",
     "text": [
      "50/167\n"
     ]
    },
    {
     "name": "stderr",
     "output_type": "stream",
     "text": [
      "100%|██████████| 1/1 [00:00<00:00,  2.19it/s]\n",
      "100%|██████████| 1/1 [00:00<00:00,  1.14it/s]\n",
      "100%|██████████| 1/1 [00:00<00:00,  2.88it/s]\n",
      "100%|██████████| 1/1 [00:01<00:00,  1.23s/it]\n"
     ]
    },
    {
     "name": "stdout",
     "output_type": "stream",
     "text": [
      "No Counterfactuals found for the given configuration, perhaps try with different parameters... ; total time taken: 00 min 01 sec\n"
     ]
    },
    {
     "name": "stderr",
     "output_type": "stream",
     "text": [
      "100%|██████████| 1/1 [00:00<00:00,  1.39it/s]\n",
      "100%|██████████| 1/1 [00:00<00:00,  4.19it/s]\n",
      "100%|██████████| 1/1 [00:00<00:00,  4.96it/s]\n",
      "100%|██████████| 1/1 [00:01<00:00,  1.12s/it]\n"
     ]
    },
    {
     "name": "stdout",
     "output_type": "stream",
     "text": [
      "No Counterfactuals found for the given configuration, perhaps try with different parameters... ; total time taken: 00 min 01 sec\n"
     ]
    },
    {
     "name": "stderr",
     "output_type": "stream",
     "text": [
      "100%|██████████| 1/1 [00:00<00:00,  3.47it/s]\n",
      "100%|██████████| 1/1 [00:00<00:00,  6.64it/s]\n",
      "100%|██████████| 1/1 [00:00<00:00,  6.01it/s]\n",
      "100%|██████████| 1/1 [00:00<00:00,  4.41it/s]\n",
      "100%|██████████| 1/1 [00:00<00:00,  3.66it/s]\n",
      "100%|██████████| 1/1 [00:00<00:00,  2.43it/s]\n",
      "100%|██████████| 1/1 [00:01<00:00,  1.03s/it]\n",
      "100%|██████████| 1/1 [00:00<00:00,  1.06it/s]\n"
     ]
    },
    {
     "name": "stdout",
     "output_type": "stream",
     "text": [
      "No Counterfactuals found for the given configuration, perhaps try with different parameters... ; total time taken: 00 min 00 sec\n"
     ]
    },
    {
     "name": "stderr",
     "output_type": "stream",
     "text": [
      "100%|██████████| 1/1 [00:00<00:00,  1.12it/s]\n"
     ]
    },
    {
     "name": "stdout",
     "output_type": "stream",
     "text": [
      "No Counterfactuals found for the given configuration, perhaps try with different parameters... ; total time taken: 00 min 00 sec\n"
     ]
    },
    {
     "name": "stderr",
     "output_type": "stream",
     "text": [
      "100%|██████████| 1/1 [00:00<00:00,  5.29it/s]\n",
      "100%|██████████| 1/1 [00:00<00:00,  2.82it/s]\n",
      "100%|██████████| 1/1 [00:00<00:00,  1.68it/s]\n",
      "100%|██████████| 1/1 [00:00<00:00,  4.47it/s]\n",
      "100%|██████████| 1/1 [00:00<00:00,  4.61it/s]\n",
      "100%|██████████| 1/1 [00:00<00:00,  1.55it/s]\n",
      "100%|██████████| 1/1 [00:00<00:00,  1.22it/s]\n",
      "100%|██████████| 1/1 [00:00<00:00,  2.07it/s]\n",
      "100%|██████████| 1/1 [00:02<00:00,  2.25s/it]\n",
      "100%|██████████| 1/1 [00:00<00:00,  2.11it/s]\n",
      "100%|██████████| 1/1 [00:00<00:00,  1.60it/s]\n",
      "100%|██████████| 1/1 [00:00<00:00,  5.10it/s]\n",
      "100%|██████████| 1/1 [00:00<00:00,  5.41it/s]\n",
      "100%|██████████| 1/1 [00:00<00:00,  2.32it/s]\n",
      "100%|██████████| 1/1 [00:00<00:00,  1.03it/s]\n",
      "100%|██████████| 1/1 [00:00<00:00,  1.67it/s]\n",
      "100%|██████████| 1/1 [00:00<00:00,  1.34it/s]\n",
      "100%|██████████| 1/1 [00:00<00:00,  2.00it/s]\n",
      "100%|██████████| 1/1 [00:00<00:00,  4.35it/s]\n",
      "100%|██████████| 1/1 [00:00<00:00,  4.15it/s]\n",
      "100%|██████████| 1/1 [00:00<00:00,  2.86it/s]\n",
      "100%|██████████| 1/1 [00:00<00:00,  4.19it/s]\n",
      "100%|██████████| 1/1 [00:00<00:00,  3.19it/s]\n",
      "100%|██████████| 1/1 [00:00<00:00,  2.93it/s]\n",
      "100%|██████████| 1/1 [00:00<00:00,  3.31it/s]\n",
      "100%|██████████| 1/1 [00:00<00:00,  3.38it/s]\n",
      "100%|██████████| 1/1 [00:00<00:00,  4.26it/s]\n",
      "100%|██████████| 1/1 [00:00<00:00,  5.77it/s]\n",
      "100%|██████████| 1/1 [00:00<00:00,  5.97it/s]\n",
      "100%|██████████| 1/1 [00:00<00:00,  6.66it/s]\n",
      "100%|██████████| 1/1 [00:00<00:00,  4.49it/s]\n",
      "100%|██████████| 1/1 [00:00<00:00,  3.15it/s]\n",
      "100%|██████████| 1/1 [00:00<00:00,  1.52it/s]\n"
     ]
    },
    {
     "name": "stdout",
     "output_type": "stream",
     "text": [
      "No Counterfactuals found for the given configuration, perhaps try with different parameters... ; total time taken: 00 min 00 sec\n"
     ]
    },
    {
     "name": "stderr",
     "output_type": "stream",
     "text": [
      "100%|██████████| 1/1 [00:00<00:00,  2.81it/s]\n",
      "100%|██████████| 1/1 [00:00<00:00,  3.05it/s]\n",
      "100%|██████████| 1/1 [00:00<00:00,  3.15it/s]\n",
      "100%|██████████| 1/1 [00:00<00:00,  6.74it/s]\n",
      "100%|██████████| 1/1 [00:00<00:00,  6.35it/s]\n"
     ]
    },
    {
     "name": "stdout",
     "output_type": "stream",
     "text": [
      "100/167\n"
     ]
    },
    {
     "name": "stderr",
     "output_type": "stream",
     "text": [
      "100%|██████████| 1/1 [00:00<00:00,  7.11it/s]\n",
      "100%|██████████| 1/1 [00:00<00:00,  1.95it/s]\n"
     ]
    },
    {
     "name": "stdout",
     "output_type": "stream",
     "text": [
      "No Counterfactuals found for the given configuration, perhaps try with different parameters... ; total time taken: 00 min 00 sec\n"
     ]
    },
    {
     "name": "stderr",
     "output_type": "stream",
     "text": [
      "100%|██████████| 1/1 [00:00<00:00,  3.83it/s]\n",
      "100%|██████████| 1/1 [00:00<00:00,  7.41it/s]\n",
      "100%|██████████| 1/1 [00:00<00:00,  3.19it/s]\n",
      "100%|██████████| 1/1 [00:00<00:00,  4.40it/s]\n",
      "100%|██████████| 1/1 [00:00<00:00,  5.60it/s]\n",
      "100%|██████████| 1/1 [00:00<00:00,  4.64it/s]\n",
      "100%|██████████| 1/1 [00:00<00:00,  3.70it/s]\n",
      "100%|██████████| 1/1 [00:00<00:00,  4.61it/s]\n",
      "100%|██████████| 1/1 [00:00<00:00,  2.59it/s]\n",
      "100%|██████████| 1/1 [00:00<00:00,  6.03it/s]\n",
      "100%|██████████| 1/1 [00:00<00:00,  7.24it/s]\n",
      "100%|██████████| 1/1 [00:00<00:00,  4.58it/s]\n",
      "100%|██████████| 1/1 [00:00<00:00,  6.84it/s]\n",
      "100%|██████████| 1/1 [00:00<00:00,  3.17it/s]\n",
      "100%|██████████| 1/1 [00:00<00:00,  5.41it/s]\n",
      "100%|██████████| 1/1 [00:00<00:00,  5.95it/s]\n",
      "100%|██████████| 1/1 [00:00<00:00,  4.00it/s]\n",
      "100%|██████████| 1/1 [00:00<00:00,  5.38it/s]\n",
      "100%|██████████| 1/1 [00:00<00:00,  2.78it/s]\n",
      "100%|██████████| 1/1 [00:00<00:00,  3.09it/s]\n",
      "100%|██████████| 1/1 [00:00<00:00,  2.95it/s]\n",
      "100%|██████████| 1/1 [00:00<00:00,  5.39it/s]\n",
      "100%|██████████| 1/1 [00:00<00:00,  6.59it/s]\n",
      "100%|██████████| 1/1 [00:00<00:00,  2.45it/s]\n",
      "100%|██████████| 1/1 [00:00<00:00,  7.08it/s]\n",
      "100%|██████████| 1/1 [00:00<00:00,  2.74it/s]\n",
      "100%|██████████| 1/1 [00:00<00:00,  6.63it/s]\n",
      "100%|██████████| 1/1 [00:00<00:00,  5.45it/s]\n",
      "100%|██████████| 1/1 [00:00<00:00,  5.15it/s]\n",
      "100%|██████████| 1/1 [00:00<00:00,  4.27it/s]\n",
      "100%|██████████| 1/1 [00:00<00:00,  6.84it/s]\n",
      "100%|██████████| 1/1 [00:00<00:00,  4.27it/s]\n",
      "100%|██████████| 1/1 [00:00<00:00,  5.47it/s]\n",
      "100%|██████████| 1/1 [00:00<00:00,  4.40it/s]\n",
      "100%|██████████| 1/1 [00:00<00:00,  4.95it/s]\n",
      "100%|██████████| 1/1 [00:00<00:00,  2.98it/s]\n",
      "100%|██████████| 1/1 [00:00<00:00,  6.84it/s]\n",
      "100%|██████████| 1/1 [00:00<00:00,  7.46it/s]\n",
      "100%|██████████| 1/1 [00:00<00:00,  5.51it/s]\n",
      "100%|██████████| 1/1 [00:00<00:00,  5.95it/s]\n",
      "100%|██████████| 1/1 [00:00<00:00,  8.19it/s]\n",
      "100%|██████████| 1/1 [00:00<00:00,  4.61it/s]\n",
      "100%|██████████| 1/1 [00:00<00:00,  6.71it/s]\n",
      "100%|██████████| 1/1 [00:00<00:00,  7.36it/s]\n",
      "100%|██████████| 1/1 [00:00<00:00,  1.91it/s]\n"
     ]
    },
    {
     "name": "stdout",
     "output_type": "stream",
     "text": [
      "No Counterfactuals found for the given configuration, perhaps try with different parameters... ; total time taken: 00 min 00 sec\n"
     ]
    },
    {
     "name": "stderr",
     "output_type": "stream",
     "text": [
      "100%|██████████| 1/1 [00:01<00:00,  1.06s/it]\n",
      "100%|██████████| 1/1 [00:00<00:00,  5.30it/s]\n",
      "100%|██████████| 1/1 [00:00<00:00,  4.05it/s]\n",
      "100%|██████████| 1/1 [00:00<00:00,  8.00it/s]\n",
      "100%|██████████| 1/1 [00:00<00:00,  8.42it/s]\n"
     ]
    },
    {
     "name": "stdout",
     "output_type": "stream",
     "text": [
      "150/167\n"
     ]
    },
    {
     "name": "stderr",
     "output_type": "stream",
     "text": [
      "100%|██████████| 1/1 [00:00<00:00,  6.66it/s]\n",
      "100%|██████████| 1/1 [00:00<00:00,  6.56it/s]\n",
      "100%|██████████| 1/1 [00:00<00:00,  9.45it/s]\n",
      "100%|██████████| 1/1 [00:00<00:00,  8.26it/s]\n",
      "100%|██████████| 1/1 [00:41<00:00, 41.32s/it]\n",
      "100%|██████████| 1/1 [00:00<00:00,  4.18it/s]\n",
      "100%|██████████| 1/1 [00:00<00:00,  5.96it/s]\n",
      "100%|██████████| 1/1 [00:00<00:00,  2.79it/s]\n",
      "100%|██████████| 1/1 [00:00<00:00,  8.93it/s]\n",
      "100%|██████████| 1/1 [00:00<00:00,  2.29it/s]\n"
     ]
    },
    {
     "name": "stdout",
     "output_type": "stream",
     "text": [
      "No Counterfactuals found for the given configuration, perhaps try with different parameters... ; total time taken: 00 min 00 sec\n"
     ]
    },
    {
     "name": "stderr",
     "output_type": "stream",
     "text": [
      "100%|██████████| 1/1 [00:00<00:00,  5.07it/s]\n",
      "100%|██████████| 1/1 [00:00<00:00,  6.65it/s]\n",
      "100%|██████████| 1/1 [00:00<00:00,  6.63it/s]\n",
      "100%|██████████| 1/1 [00:00<00:00,  7.48it/s]\n",
      "100%|██████████| 1/1 [00:00<00:00,  5.97it/s]\n",
      "100%|██████████| 1/1 [00:00<00:00,  6.16it/s]\n",
      "100%|██████████| 1/1 [00:00<00:00,  4.40it/s]\n",
      "100%|██████████| 1/1 [00:00<00:00,  5.47it/s]\n"
     ]
    },
    {
     "name": "stdout",
     "output_type": "stream",
     "text": [
      "0/167\n"
     ]
    },
    {
     "name": "stderr",
     "output_type": "stream",
     "text": [
      "100%|██████████| 1/1 [00:00<00:00,  4.37it/s]\n",
      "100%|██████████| 1/1 [00:00<00:00,  7.15it/s]\n",
      "100%|██████████| 1/1 [00:00<00:00,  7.68it/s]\n",
      "100%|██████████| 1/1 [00:00<00:00,  8.15it/s]\n",
      "100%|██████████| 1/1 [00:00<00:00,  7.34it/s]\n",
      "100%|██████████| 1/1 [00:00<00:00,  8.49it/s]\n",
      "100%|██████████| 1/1 [00:00<00:00,  7.74it/s]\n",
      "100%|██████████| 1/1 [00:00<00:00,  8.70it/s]\n",
      "100%|██████████| 1/1 [00:00<00:00,  8.92it/s]\n",
      "100%|██████████| 1/1 [00:00<00:00,  3.99it/s]\n",
      "100%|██████████| 1/1 [00:00<00:00,  5.95it/s]\n",
      "100%|██████████| 1/1 [00:00<00:00,  7.60it/s]\n",
      "100%|██████████| 1/1 [00:00<00:00,  8.07it/s]\n",
      "100%|██████████| 1/1 [00:00<00:00,  8.15it/s]\n",
      "100%|██████████| 1/1 [00:00<00:00,  7.87it/s]\n",
      "100%|██████████| 1/1 [00:44<00:00, 44.18s/it]\n",
      "100%|██████████| 1/1 [00:00<00:00,  7.45it/s]\n",
      "100%|██████████| 1/1 [00:00<00:00,  7.45it/s]\n",
      "100%|██████████| 1/1 [00:00<00:00,  7.34it/s]\n",
      "100%|██████████| 1/1 [00:00<00:00,  7.41it/s]\n",
      "100%|██████████| 1/1 [00:00<00:00,  7.61it/s]\n",
      "100%|██████████| 1/1 [00:00<00:00,  3.51it/s]\n",
      "100%|██████████| 1/1 [00:00<00:00,  5.91it/s]\n",
      "100%|██████████| 1/1 [00:00<00:00,  6.40it/s]\n",
      "100%|██████████| 1/1 [00:00<00:00,  6.55it/s]\n",
      "100%|██████████| 1/1 [00:00<00:00,  6.43it/s]\n",
      "100%|██████████| 1/1 [00:00<00:00,  7.06it/s]\n",
      "100%|██████████| 1/1 [00:00<00:00,  7.76it/s]\n",
      "100%|██████████| 1/1 [00:00<00:00,  8.05it/s]\n",
      "100%|██████████| 1/1 [00:39<00:00, 39.73s/it]\n",
      "100%|██████████| 1/1 [00:00<00:00,  8.83it/s]\n",
      "100%|██████████| 1/1 [00:00<00:00,  8.64it/s]\n",
      "100%|██████████| 1/1 [00:00<00:00,  8.25it/s]\n",
      "100%|██████████| 1/1 [00:00<00:00,  7.63it/s]\n",
      "100%|██████████| 1/1 [00:00<00:00,  6.89it/s]\n",
      "100%|██████████| 1/1 [00:00<00:00,  7.83it/s]\n",
      "100%|██████████| 1/1 [00:00<00:00,  7.77it/s]\n",
      "100%|██████████| 1/1 [00:00<00:00,  7.50it/s]\n",
      "100%|██████████| 1/1 [00:00<00:00,  7.69it/s]\n",
      "100%|██████████| 1/1 [00:00<00:00,  8.50it/s]\n",
      "100%|██████████| 1/1 [00:00<00:00,  4.12it/s]\n",
      "100%|██████████| 1/1 [00:00<00:00,  6.00it/s]\n",
      "100%|██████████| 1/1 [00:00<00:00,  7.48it/s]\n",
      "100%|██████████| 1/1 [00:00<00:00,  7.65it/s]\n",
      "100%|██████████| 1/1 [00:00<00:00,  7.11it/s]\n",
      "100%|██████████| 1/1 [00:00<00:00,  7.40it/s]\n",
      "100%|██████████| 1/1 [00:00<00:00,  7.44it/s]\n",
      "100%|██████████| 1/1 [00:00<00:00,  8.06it/s]\n",
      "100%|██████████| 1/1 [00:00<00:00,  8.23it/s]\n",
      "100%|██████████| 1/1 [00:00<00:00,  8.58it/s]\n"
     ]
    },
    {
     "name": "stdout",
     "output_type": "stream",
     "text": [
      "50/167\n"
     ]
    },
    {
     "name": "stderr",
     "output_type": "stream",
     "text": [
      "100%|██████████| 1/1 [00:00<00:00,  6.71it/s]\n",
      "100%|██████████| 1/1 [00:00<00:00,  7.15it/s]\n",
      "100%|██████████| 1/1 [00:00<00:00,  8.09it/s]\n",
      "100%|██████████| 1/1 [00:00<00:00,  8.37it/s]\n",
      "100%|██████████| 1/1 [00:00<00:00,  8.31it/s]\n",
      "100%|██████████| 1/1 [00:00<00:00,  7.83it/s]\n",
      "100%|██████████| 1/1 [00:00<00:00,  8.17it/s]\n",
      "100%|██████████| 1/1 [00:00<00:00,  8.18it/s]\n",
      "100%|██████████| 1/1 [00:00<00:00,  4.74it/s]\n",
      "100%|██████████| 1/1 [00:00<00:00,  8.61it/s]\n",
      "100%|██████████| 1/1 [00:00<00:00,  7.72it/s]\n",
      "100%|██████████| 1/1 [00:00<00:00,  7.61it/s]\n",
      "100%|██████████| 1/1 [00:00<00:00,  6.41it/s]\n",
      "100%|██████████| 1/1 [00:00<00:00,  7.64it/s]\n",
      "100%|██████████| 1/1 [00:00<00:00,  7.92it/s]\n",
      "100%|██████████| 1/1 [00:00<00:00,  8.67it/s]\n",
      "100%|██████████| 1/1 [00:00<00:00,  8.34it/s]\n",
      "100%|██████████| 1/1 [00:00<00:00,  7.74it/s]\n",
      "100%|██████████| 1/1 [00:00<00:00,  7.10it/s]\n",
      "100%|██████████| 1/1 [00:00<00:00,  8.59it/s]\n",
      "100%|██████████| 1/1 [00:00<00:00,  3.87it/s]\n",
      "100%|██████████| 1/1 [00:00<00:00,  5.58it/s]\n",
      "100%|██████████| 1/1 [00:00<00:00,  7.10it/s]\n",
      "100%|██████████| 1/1 [00:00<00:00,  6.87it/s]\n",
      "100%|██████████| 1/1 [00:00<00:00,  7.67it/s]\n",
      "100%|██████████| 1/1 [00:00<00:00,  7.74it/s]\n",
      "100%|██████████| 1/1 [00:00<00:00,  8.61it/s]\n",
      "100%|██████████| 1/1 [00:00<00:00,  7.92it/s]\n",
      "100%|██████████| 1/1 [00:00<00:00,  1.04it/s]\n",
      "100%|██████████| 1/1 [00:00<00:00,  7.97it/s]\n",
      "100%|██████████| 1/1 [00:38<00:00, 38.65s/it]\n",
      "100%|██████████| 1/1 [00:00<00:00,  8.75it/s]\n",
      "100%|██████████| 1/1 [00:00<00:00,  8.76it/s]\n",
      "100%|██████████| 1/1 [00:00<00:00, 10.08it/s]\n",
      "100%|██████████| 1/1 [00:00<00:00,  9.99it/s]\n",
      "100%|██████████| 1/1 [00:00<00:00,  8.40it/s]\n",
      "100%|██████████| 1/1 [00:00<00:00,  9.04it/s]\n",
      "100%|██████████| 1/1 [00:00<00:00,  8.22it/s]\n",
      "100%|██████████| 1/1 [00:00<00:00,  8.70it/s]\n",
      "100%|██████████| 1/1 [00:00<00:00,  8.54it/s]\n",
      "100%|██████████| 1/1 [00:00<00:00,  8.59it/s]\n",
      "100%|██████████| 1/1 [00:00<00:00,  9.85it/s]\n",
      "100%|██████████| 1/1 [00:00<00:00,  8.70it/s]\n",
      "100%|██████████| 1/1 [00:00<00:00,  7.30it/s]\n",
      "100%|██████████| 1/1 [00:00<00:00,  7.57it/s]\n",
      "100%|██████████| 1/1 [00:00<00:00,  8.77it/s]\n",
      "100%|██████████| 1/1 [00:00<00:00,  8.58it/s]\n",
      "100%|██████████| 1/1 [00:00<00:00,  8.30it/s]\n",
      "100%|██████████| 1/1 [00:00<00:00,  7.77it/s]\n",
      "100%|██████████| 1/1 [00:00<00:00,  7.71it/s]\n"
     ]
    },
    {
     "name": "stdout",
     "output_type": "stream",
     "text": [
      "100/167\n"
     ]
    },
    {
     "name": "stderr",
     "output_type": "stream",
     "text": [
      "100%|██████████| 1/1 [00:00<00:00,  8.60it/s]\n",
      "100%|██████████| 1/1 [00:00<00:00,  9.53it/s]\n",
      "100%|██████████| 1/1 [00:00<00:00,  8.44it/s]\n",
      "100%|██████████| 1/1 [00:00<00:00,  4.50it/s]\n",
      "100%|██████████| 1/1 [00:00<00:00,  5.83it/s]\n",
      "100%|██████████| 1/1 [00:00<00:00,  6.87it/s]\n",
      "100%|██████████| 1/1 [00:00<00:00,  7.34it/s]\n",
      "100%|██████████| 1/1 [00:00<00:00,  7.36it/s]\n",
      "100%|██████████| 1/1 [00:00<00:00,  8.03it/s]\n",
      "100%|██████████| 1/1 [00:00<00:00,  7.18it/s]\n",
      "100%|██████████| 1/1 [00:00<00:00,  8.27it/s]\n",
      "100%|██████████| 1/1 [00:00<00:00,  6.54it/s]\n",
      "100%|██████████| 1/1 [00:00<00:00,  7.90it/s]\n",
      "100%|██████████| 1/1 [00:00<00:00,  7.66it/s]\n",
      "100%|██████████| 1/1 [00:00<00:00,  7.14it/s]\n",
      "100%|██████████| 1/1 [00:00<00:00,  6.79it/s]\n",
      "100%|██████████| 1/1 [00:00<00:00,  7.63it/s]\n",
      "100%|██████████| 1/1 [00:00<00:00,  7.55it/s]\n",
      "100%|██████████| 1/1 [00:00<00:00,  8.15it/s]\n",
      "100%|██████████| 1/1 [00:00<00:00,  6.68it/s]\n",
      "100%|██████████| 1/1 [00:00<00:00,  8.60it/s]\n",
      "100%|██████████| 1/1 [00:00<00:00,  7.71it/s]\n",
      "100%|██████████| 1/1 [00:00<00:00,  7.83it/s]\n",
      "100%|██████████| 1/1 [00:00<00:00,  7.92it/s]\n",
      "100%|██████████| 1/1 [00:00<00:00,  7.92it/s]\n",
      "100%|██████████| 1/1 [00:00<00:00,  8.61it/s]\n",
      "100%|██████████| 1/1 [00:00<00:00,  7.79it/s]\n",
      "100%|██████████| 1/1 [00:00<00:00,  8.59it/s]\n",
      "100%|██████████| 1/1 [00:00<00:00,  7.33it/s]\n",
      "100%|██████████| 1/1 [00:00<00:00,  8.05it/s]\n",
      "100%|██████████| 1/1 [00:00<00:00,  7.88it/s]\n",
      "100%|██████████| 1/1 [00:00<00:00,  8.29it/s]\n",
      "100%|██████████| 1/1 [00:00<00:00,  7.65it/s]\n",
      "100%|██████████| 1/1 [00:00<00:00,  7.24it/s]\n",
      "100%|██████████| 1/1 [00:00<00:00,  8.04it/s]\n",
      "100%|██████████| 1/1 [00:00<00:00,  8.16it/s]\n",
      "100%|██████████| 1/1 [00:00<00:00,  8.57it/s]\n",
      "100%|██████████| 1/1 [00:00<00:00,  3.98it/s]\n",
      "100%|██████████| 1/1 [00:00<00:00,  6.44it/s]\n",
      "100%|██████████| 1/1 [00:00<00:00,  7.55it/s]\n",
      "100%|██████████| 1/1 [00:00<00:00,  7.65it/s]\n",
      "100%|██████████| 1/1 [00:00<00:00,  7.59it/s]\n",
      "100%|██████████| 1/1 [00:00<00:00,  8.33it/s]\n",
      "100%|██████████| 1/1 [00:00<00:00,  7.29it/s]\n",
      "100%|██████████| 1/1 [00:00<00:00,  8.30it/s]\n",
      "100%|██████████| 1/1 [00:00<00:00,  8.94it/s]\n",
      "100%|██████████| 1/1 [00:00<00:00,  8.21it/s]\n",
      "100%|██████████| 1/1 [00:00<00:00,  7.69it/s]\n",
      "100%|██████████| 1/1 [00:38<00:00, 38.61s/it]\n",
      "100%|██████████| 1/1 [00:00<00:00,  9.92it/s]\n"
     ]
    },
    {
     "name": "stdout",
     "output_type": "stream",
     "text": [
      "150/167\n"
     ]
    },
    {
     "name": "stderr",
     "output_type": "stream",
     "text": [
      "100%|██████████| 1/1 [00:00<00:00,  7.91it/s]\n",
      "100%|██████████| 1/1 [00:00<00:00,  8.58it/s]\n",
      "100%|██████████| 1/1 [00:00<00:00,  7.70it/s]\n",
      "100%|██████████| 1/1 [00:00<00:00,  8.91it/s]\n",
      "100%|██████████| 1/1 [00:00<00:00,  8.53it/s]\n",
      "100%|██████████| 1/1 [00:00<00:00,  7.94it/s]\n",
      "100%|██████████| 1/1 [00:00<00:00,  8.25it/s]\n",
      "100%|██████████| 1/1 [00:00<00:00,  7.09it/s]\n",
      "100%|██████████| 1/1 [00:00<00:00,  8.14it/s]\n",
      "100%|██████████| 1/1 [00:00<00:00,  6.95it/s]\n",
      "100%|██████████| 1/1 [00:00<00:00,  7.55it/s]\n",
      "100%|██████████| 1/1 [00:00<00:00,  7.25it/s]\n",
      "100%|██████████| 1/1 [00:00<00:00,  7.68it/s]\n",
      "100%|██████████| 1/1 [00:00<00:00,  8.66it/s]\n",
      "100%|██████████| 1/1 [00:00<00:00,  9.52it/s]\n",
      "100%|██████████| 1/1 [00:00<00:00,  7.22it/s]\n",
      "100%|██████████| 1/1 [00:00<00:00,  4.08it/s]\n"
     ]
    },
    {
     "data": {
      "text/html": [
       "<div>\n",
       "<style scoped>\n",
       "    .dataframe tbody tr th:only-of-type {\n",
       "        vertical-align: middle;\n",
       "    }\n",
       "\n",
       "    .dataframe tbody tr th {\n",
       "        vertical-align: top;\n",
       "    }\n",
       "\n",
       "    .dataframe thead th {\n",
       "        text-align: right;\n",
       "    }\n",
       "</style>\n",
       "<table border=\"1\" class=\"dataframe\">\n",
       "  <thead>\n",
       "    <tr style=\"text-align: right;\">\n",
       "      <th></th>\n",
       "      <th>full data accuracy score</th>\n",
       "      <th>[\"random\"] balanced accuracy score</th>\n",
       "      <th>[\"random\"] accuracy score</th>\n",
       "      <th>[\"smote\"] balanced accuracy score</th>\n",
       "      <th>[\"smote\"] accuracy score</th>\n",
       "      <th>[\"cf_random\"] balanced accuracy score</th>\n",
       "      <th>[\"cf_random\"] accuracy score</th>\n",
       "    </tr>\n",
       "  </thead>\n",
       "  <tbody>\n",
       "    <tr>\n",
       "      <th>lg</th>\n",
       "      <td>0.738095</td>\n",
       "      <td>0.702381</td>\n",
       "      <td>0.761905</td>\n",
       "      <td>0.642857</td>\n",
       "      <td>0.642857</td>\n",
       "      <td>0.702381</td>\n",
       "      <td>0.773810</td>\n",
       "    </tr>\n",
       "    <tr>\n",
       "      <th>rf</th>\n",
       "      <td>0.797619</td>\n",
       "      <td>0.750000</td>\n",
       "      <td>0.809524</td>\n",
       "      <td>0.761905</td>\n",
       "      <td>0.761905</td>\n",
       "      <td>0.690476</td>\n",
       "      <td>0.785714</td>\n",
       "    </tr>\n",
       "    <tr>\n",
       "      <th>xgb</th>\n",
       "      <td>0.761905</td>\n",
       "      <td>0.750000</td>\n",
       "      <td>0.750000</td>\n",
       "      <td>0.738095</td>\n",
       "      <td>0.738095</td>\n",
       "      <td>0.773810</td>\n",
       "      <td>0.773810</td>\n",
       "    </tr>\n",
       "  </tbody>\n",
       "</table>\n",
       "</div>"
      ],
      "text/plain": [
       "     full data accuracy score  [\"random\"] balanced accuracy score  \\\n",
       "lg                   0.738095                            0.702381   \n",
       "rf                   0.797619                            0.750000   \n",
       "xgb                  0.761905                            0.750000   \n",
       "\n",
       "     [\"random\"] accuracy score  [\"smote\"] balanced accuracy score  \\\n",
       "lg                    0.761905                           0.642857   \n",
       "rf                    0.809524                           0.761905   \n",
       "xgb                   0.750000                           0.738095   \n",
       "\n",
       "     [\"smote\"] accuracy score  [\"cf_random\"] balanced accuracy score  \\\n",
       "lg                   0.642857                               0.702381   \n",
       "rf                   0.761905                               0.690476   \n",
       "xgb                  0.738095                               0.773810   \n",
       "\n",
       "     [\"cf_random\"] accuracy score  \n",
       "lg                       0.773810  \n",
       "rf                       0.785714  \n",
       "xgb                      0.773810  "
      ]
     },
     "metadata": {},
     "output_type": "display_data"
    },
    {
     "name": "stdout",
     "output_type": "stream",
     "text": [
      "323.15717673301697 seconds for settings 2\n",
      "3 / 4, {'method': 'cf_genetic', 'kw_args': {'proximity_weight': 5, 'diversity_weight': 0.2, 'sparsity_weight': 0.2}} categorical_feats: ['Drug', 'Sex', 'Ascites', 'Hepatomegaly', 'Spiders', 'Edema']\n",
      "0/63\n"
     ]
    },
    {
     "name": "stderr",
     "output_type": "stream",
     "text": [
      "100%|██████████| 1/1 [00:00<00:00,  3.93it/s]\n",
      "100%|██████████| 1/1 [00:00<00:00,  5.42it/s]\n",
      "100%|██████████| 1/1 [00:00<00:00,  6.18it/s]\n",
      "100%|██████████| 1/1 [00:00<00:00,  6.37it/s]\n",
      "100%|██████████| 1/1 [00:00<00:00,  6.89it/s]\n",
      "100%|██████████| 1/1 [00:00<00:00,  6.76it/s]\n",
      "100%|██████████| 1/1 [00:00<00:00,  6.61it/s]\n",
      "100%|██████████| 1/1 [00:00<00:00,  6.24it/s]\n",
      "100%|██████████| 1/1 [00:00<00:00,  6.35it/s]\n",
      "100%|██████████| 1/1 [00:00<00:00,  6.38it/s]\n",
      "100%|██████████| 1/1 [00:00<00:00,  5.40it/s]\n",
      "100%|██████████| 1/1 [00:00<00:00,  6.10it/s]\n",
      "100%|██████████| 1/1 [00:00<00:00,  6.12it/s]\n",
      "100%|██████████| 1/1 [00:00<00:00,  5.46it/s]\n",
      "100%|██████████| 1/1 [00:00<00:00,  5.76it/s]\n",
      "100%|██████████| 1/1 [00:00<00:00,  5.93it/s]\n",
      "100%|██████████| 1/1 [00:00<00:00,  5.79it/s]\n",
      "100%|██████████| 1/1 [00:00<00:00,  5.62it/s]\n",
      "100%|██████████| 1/1 [00:00<00:00,  5.88it/s]\n",
      "100%|██████████| 1/1 [00:00<00:00,  6.22it/s]\n",
      "100%|██████████| 1/1 [00:00<00:00,  5.99it/s]\n",
      "100%|██████████| 1/1 [00:00<00:00,  3.15it/s]\n",
      "100%|██████████| 1/1 [00:00<00:00,  5.35it/s]\n",
      "100%|██████████| 1/1 [00:00<00:00,  5.91it/s]\n",
      "100%|██████████| 1/1 [00:00<00:00,  6.43it/s]\n",
      "100%|██████████| 1/1 [00:00<00:00,  6.55it/s]\n",
      "100%|██████████| 1/1 [00:00<00:00,  6.33it/s]\n",
      "100%|██████████| 1/1 [00:00<00:00,  7.24it/s]\n",
      "100%|██████████| 1/1 [00:00<00:00,  6.23it/s]\n",
      "100%|██████████| 1/1 [00:00<00:00,  5.82it/s]\n",
      "100%|██████████| 1/1 [00:00<00:00,  5.79it/s]\n",
      "100%|██████████| 1/1 [00:00<00:00,  6.47it/s]\n",
      "100%|██████████| 1/1 [00:00<00:00,  6.53it/s]\n",
      "100%|██████████| 1/1 [00:00<00:00,  6.71it/s]\n",
      "100%|██████████| 1/1 [00:00<00:00,  6.20it/s]\n",
      "100%|██████████| 1/1 [00:00<00:00,  6.52it/s]\n",
      "100%|██████████| 1/1 [00:00<00:00,  6.78it/s]\n",
      "100%|██████████| 1/1 [00:00<00:00,  6.36it/s]\n",
      "100%|██████████| 1/1 [00:00<00:00,  6.43it/s]\n",
      "100%|██████████| 1/1 [00:00<00:00,  6.14it/s]\n",
      "100%|██████████| 1/1 [00:00<00:00,  6.63it/s]\n",
      "100%|██████████| 1/1 [00:00<00:00,  7.53it/s]\n",
      "100%|██████████| 1/1 [00:00<00:00,  7.89it/s]\n",
      "100%|██████████| 1/1 [00:00<00:00,  7.10it/s]\n",
      "100%|██████████| 1/1 [00:00<00:00,  6.22it/s]\n",
      "100%|██████████| 1/1 [00:00<00:00,  6.56it/s]\n",
      "100%|██████████| 1/1 [00:00<00:00,  6.60it/s]\n",
      "100%|██████████| 1/1 [00:00<00:00,  6.37it/s]\n",
      "100%|██████████| 1/1 [00:00<00:00,  5.36it/s]\n",
      "100%|██████████| 1/1 [00:00<00:00,  7.03it/s]\n"
     ]
    },
    {
     "name": "stdout",
     "output_type": "stream",
     "text": [
      "50/63\n"
     ]
    },
    {
     "name": "stderr",
     "output_type": "stream",
     "text": [
      "100%|██████████| 1/1 [00:00<00:00,  6.72it/s]\n",
      "100%|██████████| 1/1 [00:00<00:00,  6.18it/s]\n",
      "100%|██████████| 1/1 [00:00<00:00,  6.04it/s]\n",
      "100%|██████████| 1/1 [00:00<00:00,  3.92it/s]\n",
      "100%|██████████| 1/1 [00:00<00:00,  4.86it/s]\n",
      "100%|██████████| 1/1 [00:00<00:00,  6.57it/s]\n",
      "100%|██████████| 1/1 [00:00<00:00,  6.27it/s]\n",
      "100%|██████████| 1/1 [00:00<00:00,  6.83it/s]\n",
      "100%|██████████| 1/1 [00:00<00:00,  5.21it/s]\n",
      "100%|██████████| 1/1 [00:00<00:00,  6.51it/s]\n",
      "100%|██████████| 1/1 [00:00<00:00,  6.67it/s]\n",
      "100%|██████████| 1/1 [00:00<00:00,  6.96it/s]\n",
      "100%|██████████| 1/1 [00:00<00:00,  7.24it/s]\n",
      "100%|██████████| 1/1 [00:00<00:00,  7.57it/s]\n"
     ]
    },
    {
     "name": "stdout",
     "output_type": "stream",
     "text": [
      "0/167\n"
     ]
    },
    {
     "name": "stderr",
     "output_type": "stream",
     "text": [
      "100%|██████████| 1/1 [00:31<00:00, 31.18s/it]\n",
      "100%|██████████| 1/1 [00:31<00:00, 31.95s/it]\n",
      "100%|██████████| 1/1 [00:31<00:00, 31.48s/it]\n",
      "100%|██████████| 1/1 [01:14<00:00, 74.98s/it]\n",
      "100%|██████████| 1/1 [00:57<00:00, 57.73s/it]\n",
      "100%|██████████| 1/1 [01:25<00:00, 85.02s/it]\n",
      "100%|██████████| 1/1 [00:43<00:00, 43.69s/it]\n",
      "100%|██████████| 1/1 [01:27<00:00, 87.11s/it]\n",
      "100%|██████████| 1/1 [00:31<00:00, 31.66s/it]\n",
      "100%|██████████| 1/1 [00:39<00:00, 39.16s/it]\n",
      "100%|██████████| 1/1 [01:06<00:00, 66.13s/it]\n",
      "100%|██████████| 1/1 [00:42<00:00, 42.47s/it]\n",
      "100%|██████████| 1/1 [00:46<00:00, 46.21s/it]\n",
      "100%|██████████| 1/1 [00:49<00:00, 49.98s/it]\n",
      "100%|██████████| 1/1 [00:51<00:00, 51.24s/it]\n",
      "100%|██████████| 1/1 [00:49<00:00, 49.17s/it]\n",
      "100%|██████████| 1/1 [00:25<00:00, 26.00s/it]\n",
      "100%|██████████| 1/1 [00:52<00:00, 52.20s/it]\n",
      "100%|██████████| 1/1 [00:32<00:00, 32.73s/it]\n",
      "100%|██████████| 1/1 [00:49<00:00, 49.92s/it]\n",
      "100%|██████████| 1/1 [01:07<00:00, 67.76s/it]\n",
      "100%|██████████| 1/1 [00:36<00:00, 36.15s/it]\n",
      "100%|██████████| 1/1 [00:22<00:00, 22.31s/it]\n",
      "100%|██████████| 1/1 [00:42<00:00, 42.39s/it]\n",
      "100%|██████████| 1/1 [01:09<00:00, 69.64s/it]\n",
      "100%|██████████| 1/1 [00:26<00:00, 26.87s/it]\n",
      "100%|██████████| 1/1 [00:31<00:00, 31.60s/it]\n",
      "100%|██████████| 1/1 [00:13<00:00, 13.64s/it]\n",
      "100%|██████████| 1/1 [00:30<00:00, 30.55s/it]\n",
      "100%|██████████| 1/1 [00:35<00:00, 35.33s/it]\n",
      "100%|██████████| 1/1 [00:41<00:00, 41.83s/it]\n",
      "  0%|          | 0/1 [00:06<?, ?it/s]\n",
      "  0%|          | 0/1 [00:00<?, ?it/s]"
     ]
    }
   ],
   "source": [
    "# best_estimators = {}\n",
    "# best_scores = {}\n",
    "# for i, s in enumerate(settings):\n",
    "#     start = time.time()\n",
    "#     print(f'{i} / {len(settings)}, {s}', end=' ')\n",
    "#     augmentor = DataAugmentor(X_train, y_train, X_test, y_test,\n",
    "#                              method=s['method'], regression=regression_task,\n",
    "#                              continuous_feats=continuous_features,\n",
    "#                              cf_scoring = metric,\n",
    "#                              kw_args=s.get('kw_args', {})\n",
    "#                              )\n",
    "\n",
    "#     X_train_augmented_balanced, y_train_augmented_balanced = augmentor.augment(balance=True)\n",
    "#     best_estimators[f'{i}_balanced'], best_scores[f'{i}_balanced'] = \\\n",
    "#     utils.fit_and_evaluate(X_train_augmented_balanced, y_train_augmented_balanced, X_test, y_test,\n",
    "#                             search_estimators=search_pipelines, search_params=search_parameters, scoring=metric)\n",
    "#     result_df_balanced = pd.DataFrame.from_dict(best_scores[f'{i}_balanced'],\n",
    "#                                                 orient='index',\n",
    "#                                                 columns=[f'{json.dumps((list(s.values())))} balanced {metric} score'])\n",
    "\n",
    "#     X_train_augmented, y_train_augmented = augmentor.augment(balance=False, size=augment_sample)\n",
    "#     best_estimators[f'{i}'], best_scores[f'{i}'] = \\\n",
    "#         utils.fit_and_evaluate(X_train_augmented, y_train_augmented, X_test, y_test,\n",
    "#                                search_estimators=search_pipelines, search_params=search_parameters, scoring=metric)\n",
    "#     result_df = pd.DataFrame.from_dict(best_scores[f'{i}'],\n",
    "#                                        orient='index',\n",
    "#                                        columns=[f'{json.dumps((list(s.values())))} {metric} score'])\n",
    "    \n",
    "#     full_results_df = pd.concat([full_results_df, result_df_balanced, result_df], axis=1)\n",
    "#     display(full_results_df)\n",
    "#     print(f'{time.time() - start} seconds for settings {i}')\n",
    "\n",
    "best_estimators = {}\n",
    "best_scores = {}\n",
    "for i, s in enumerate(settings):\n",
    "    start = time.time()\n",
    "    print(f'{i+1} / {len(settings)}, {s}', end=' ')\n",
    "    if 'cf_genetic' in s['method']:\n",
    "        augmentor = DataAugmentor(X_train_inflate, y_train_inflate, X_test_inflate, y_test_inflate,\n",
    "                             method=s['method'], regression=regression_task,\n",
    "                             continuous_feats=continuous_features,\n",
    "                             cf_scoring = metric,\n",
    "                             kw_args=s.get('kw_args', {})\n",
    "                             )\n",
    "\n",
    "        X_train_augmented_balanced, y_train_augmented_balanced = augmentor.augment(balance=True)\n",
    "        best_estimators[f'{i}_balanced'], best_scores[f'{i}_balanced'] = \\\n",
    "        utils.fit_and_evaluate(X_train_augmented_balanced, y_train_augmented_balanced, X_test_inflate, y_test_inflate,\n",
    "                                search_estimators=search_pipelines, search_params=search_parameters, scoring=metric)\n",
    "        result_df_balanced = pd.DataFrame.from_dict(best_scores[f'{i}_balanced'],\n",
    "                                                    orient='index',\n",
    "                                                    columns=[f'{json.dumps((list(s.values())))} balanced {metric} score'])\n",
    "\n",
    "        X_train_augmented, y_train_augmented = augmentor.augment(balance=False, size=augment_sample)\n",
    "        best_estimators[f'{i}'], best_scores[f'{i}'] = \\\n",
    "            utils.fit_and_evaluate(X_train_augmented, y_train_augmented, X_test, y_test,\n",
    "                                search_estimators=search_pipelines, search_params=search_parameters, scoring=metric)\n",
    "        result_df = pd.DataFrame.from_dict(best_scores[f'{i}'],\n",
    "                                        orient='index',\n",
    "                                        columns=[f'{json.dumps((list(s.values())))} {metric} score'])\n",
    "        \n",
    "        full_results_df = pd.concat([full_results_df, result_df_balanced, result_df], axis=1)\n",
    "        print(f'{time.time() - start} seconds for settings {i}')\n",
    "    else:\n",
    "        augmentor = DataAugmentor(X_train, y_train, X_test, y_test,\n",
    "                                method=s['method'], regression=regression_task,\n",
    "                                continuous_feats=continuous_features,\n",
    "                                cf_scoring = metric,\n",
    "                                kw_args=s.get('kw_args', {})\n",
    "                                )\n",
    "\n",
    "        X_train_augmented_balanced, y_train_augmented_balanced = augmentor.augment(balance=True)\n",
    "        best_estimators[f'{i}_balanced'], best_scores[f'{i}_balanced'] = \\\n",
    "        utils.fit_and_evaluate(X_train_augmented_balanced, y_train_augmented_balanced, X_test, y_test,\n",
    "                                search_estimators=search_pipelines, search_params=search_parameters, scoring=metric)\n",
    "        result_df_balanced = pd.DataFrame.from_dict(best_scores[f'{i}_balanced'],\n",
    "                                                    orient='index',\n",
    "                                                    columns=[f'{json.dumps((list(s.values())))} balanced {metric} score'])\n",
    "\n",
    "        X_train_augmented, y_train_augmented = augmentor.augment(balance=False, size=augment_sample)\n",
    "        best_estimators[f'{i}'], best_scores[f'{i}'] = \\\n",
    "            utils.fit_and_evaluate(X_train_augmented, y_train_augmented, X_test, y_test,\n",
    "                                search_estimators=search_pipelines, search_params=search_parameters, scoring=metric)\n",
    "        result_df = pd.DataFrame.from_dict(best_scores[f'{i}'],\n",
    "                                        orient='index',\n",
    "                                        columns=[f'{json.dumps((list(s.values())))} {metric} score'])\n",
    "        \n",
    "        full_results_df = pd.concat([full_results_df, result_df_balanced, result_df], axis=1)\n",
    "        print(f'{time.time() - start} seconds for settings {i}')\n",
    "\n"
   ]
  },
  {
   "cell_type": "code",
   "execution_count": null,
   "metadata": {},
   "outputs": [],
   "source": [
    "full_results_df"
   ]
  },
  {
   "cell_type": "code",
   "execution_count": null,
   "metadata": {},
   "outputs": [],
   "source": [
    "full_results_df.to_csv(rf'../log/experiment_multiclass_cirrhosis_{metric}_testsize{test_size_proportion}_augmentsample{augment_sample}.csv')"
   ]
  }
 ],
 "metadata": {
  "kernelspec": {
   "display_name": "Python 3",
   "language": "python",
   "name": "python3"
  },
  "language_info": {
   "codemirror_mode": {
    "name": "ipython",
    "version": 3
   },
   "file_extension": ".py",
   "mimetype": "text/x-python",
   "name": "python",
   "nbconvert_exporter": "python",
   "pygments_lexer": "ipython3",
   "version": "3.9.13"
  }
 },
 "nbformat": 4,
 "nbformat_minor": 2
}
