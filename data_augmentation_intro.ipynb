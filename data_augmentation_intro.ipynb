{
 "cells": [
  {
   "cell_type": "markdown",
   "metadata": {},
   "source": [
    "# Quick introduction to Data Augmentor\n",
    "Small and imbalanced datasets are a big problem. They are suffer from similar challenges such that they may not generalize well, tend to overfit, biased and lacked performance.  \n",
    "Sometimes augment the dataset can remedy some of the challenges.  \n",
    "Our implementation of all-in-one DataAugmentor, including our novel implemetation using counterfactuals module can help to tackle those challenges.  \n",
    "The solution is model and data agnostic (works for all complex models and all kind of datasets).\n",
    "\n",
    "Below is a small example, how this idea can mitigate limitations of small datasets.   \n",
    "In this example we will use the `cirrhosis` dataset which is a multiclass classification task.\n",
    "Cirrhosis dataset is a medical datasets, collected from clinic trials. Its an excellent example due to the fact that it is a small and imbalanced dataset.   \n",
    "You can see all of our experiments, for different kind of datasets and models in `experimetns/` folder."
   ]
  },
  {
   "cell_type": "markdown",
   "metadata": {},
   "source": [
    "## First we will create a basic datascience pipeline"
   ]
  },
  {
   "cell_type": "markdown",
   "metadata": {},
   "source": [
    "### Initialization\n",
    "Installing requirements, auto reload changing to code, imports and some configurations"
   ]
  },
  {
   "cell_type": "code",
   "execution_count": 14,
   "metadata": {},
   "outputs": [
    {
     "name": "stdout",
     "output_type": "stream",
     "text": [
      "Note: you may need to restart the kernel to use updated packages.\n"
     ]
    },
    {
     "name": "stderr",
     "output_type": "stream",
     "text": [
      "ERROR: Could not open requirements file: [Errno 2] No such file or directory: '../requirements.txt'\n"
     ]
    }
   ],
   "source": [
    "%pip install -r requirements.txt"
   ]
  },
  {
   "cell_type": "code",
   "execution_count": 15,
   "metadata": {},
   "outputs": [
    {
     "name": "stdout",
     "output_type": "stream",
     "text": [
      "The autoreload extension is already loaded. To reload it, use:\n",
      "  %reload_ext autoreload\n"
     ]
    }
   ],
   "source": [
    "%load_ext autoreload\n",
    "%autoreload 2"
   ]
  },
  {
   "cell_type": "code",
   "execution_count": 16,
   "metadata": {},
   "outputs": [],
   "source": [
    "import pandas as pd\n",
    "\n",
    "import sys\n",
    "\n",
    "from helpers import utils, pipelines, models\n",
    "\n",
    "from sklearn.model_selection import train_test_split\n",
    "\n",
    "import multiprocessing\n",
    "\n",
    "from data_augmentaion.data_augmentator import DataAugmentor \n",
    "\n",
    "import json\n",
    "\n",
    "import time\n",
    "\n",
    "pd.set_option('display.max_columns', None)\n",
    "\n",
    "import warnings\n",
    "warnings.filterwarnings('ignore')"
   ]
  },
  {
   "cell_type": "code",
   "execution_count": 17,
   "metadata": {},
   "outputs": [],
   "source": [
    "# disable tqdm progress bar by default\n",
    "from tqdm import tqdm\n",
    "from functools import partialmethod\n",
    "\n",
    "tqdm.__init__ = partialmethod(tqdm.__init__, disable=True)"
   ]
  },
  {
   "cell_type": "markdown",
   "metadata": {},
   "source": [
    "### Load data"
   ]
  },
  {
   "cell_type": "code",
   "execution_count": 18,
   "metadata": {},
   "outputs": [],
   "source": [
    "raw_data = pd.read_csv(r\"datasets/cirrhosis.csv\")\n",
    "df = utils.preprocess_cirrhosis(raw_data)\n",
    "target = 'Status'"
   ]
  },
  {
   "cell_type": "markdown",
   "metadata": {},
   "source": [
    "### split data"
   ]
  },
  {
   "cell_type": "code",
   "execution_count": 19,
   "metadata": {},
   "outputs": [],
   "source": [
    "X = df.drop(target, axis=1)\n",
    "y = df[target]\n",
    "X_train, X_test, y_train, y_test = train_test_split(X, y, test_size=0.2, random_state=42)"
   ]
  },
  {
   "cell_type": "code",
   "execution_count": 20,
   "metadata": {},
   "outputs": [],
   "source": [
    "# define continuous_features\n",
    "continuous_features = X.select_dtypes(include=['number']).columns.tolist()"
   ]
  },
  {
   "cell_type": "markdown",
   "metadata": {},
   "source": [
    "### Target distribution in train\n",
    "Can be seen that this is a small and imbalance dataset"
   ]
  },
  {
   "cell_type": "code",
   "execution_count": 21,
   "metadata": {},
   "outputs": [
    {
     "data": {
      "image/png": "[encoded data removed]",
      "text/plain": [
       "<Figure size 640x480 with 1 Axes>"
      ]
     },
     "metadata": {},
     "output_type": "display_data"
    }
   ],
   "source": [
    "ax = y_train.value_counts().sort_index().plot(kind='bar')\n",
    "ax.set_title('class distribution')\n",
    "for p in ax.patches:\n",
    "    ax.annotate(str(p.get_height()), (p.get_x() + p.get_width() / 2., p.get_height()-4), ha='center', va='center', xytext=(0, 10), textcoords='offset points')"
   ]
  },
  {
   "cell_type": "markdown",
   "metadata": {},
   "source": [
    "### Train a model without any augmentation"
   ]
  },
  {
   "cell_type": "code",
   "execution_count": 22,
   "metadata": {},
   "outputs": [
    {
     "data": {
      "text/html": [
       "<div>\n",
       "<style scoped>\n",
       "    .dataframe tbody tr th:only-of-type {\n",
       "        vertical-align: middle;\n",
       "    }\n",
       "\n",
       "    .dataframe tbody tr th {\n",
       "        vertical-align: top;\n",
       "    }\n",
       "\n",
       "    .dataframe thead th {\n",
       "        text-align: right;\n",
       "    }\n",
       "</style>\n",
       "<table border=\"1\" class=\"dataframe\">\n",
       "  <thead>\n",
       "    <tr style=\"text-align: right;\">\n",
       "      <th></th>\n",
       "      <th></th>\n",
       "      <th>lg</th>\n",
       "      <th>rf</th>\n",
       "      <th>xgb</th>\n",
       "    </tr>\n",
       "  </thead>\n",
       "  <tbody>\n",
       "    <tr>\n",
       "      <th rowspan=\"7\" valign=\"top\">whole</th>\n",
       "      <th>f1_weighted</th>\n",
       "      <td>0.731732</td>\n",
       "      <td>0.773441</td>\n",
       "      <td>0.742029</td>\n",
       "    </tr>\n",
       "    <tr>\n",
       "      <th>accuracy</th>\n",
       "      <td>0.738095</td>\n",
       "      <td>0.797619</td>\n",
       "      <td>0.761905</td>\n",
       "    </tr>\n",
       "    <tr>\n",
       "      <th>balanced_accuracy</th>\n",
       "      <td>0.524411</td>\n",
       "      <td>0.547980</td>\n",
       "      <td>0.528620</td>\n",
       "    </tr>\n",
       "    <tr>\n",
       "      <th>precision_weighted</th>\n",
       "      <td>0.714340</td>\n",
       "      <td>0.776045</td>\n",
       "      <td>0.727952</td>\n",
       "    </tr>\n",
       "    <tr>\n",
       "      <th>recall_weighted</th>\n",
       "      <td>0.738095</td>\n",
       "      <td>0.797619</td>\n",
       "      <td>0.761905</td>\n",
       "    </tr>\n",
       "    <tr>\n",
       "      <th>roc_auc_ovr_weighted</th>\n",
       "      <td>0.871974</td>\n",
       "      <td>0.860169</td>\n",
       "      <td>0.867857</td>\n",
       "    </tr>\n",
       "    <tr>\n",
       "      <th>roc_auc_ovo_weighted</th>\n",
       "      <td>0.839075</td>\n",
       "      <td>0.797379</td>\n",
       "      <td>0.837963</td>\n",
       "    </tr>\n",
       "  </tbody>\n",
       "</table>\n",
       "</div>"
      ],
      "text/plain": [
       "                                  lg        rf       xgb\n",
       "whole f1_weighted           0.731732  0.773441  0.742029\n",
       "      accuracy              0.738095  0.797619  0.761905\n",
       "      balanced_accuracy     0.524411  0.547980  0.528620\n",
       "      precision_weighted    0.714340  0.776045  0.727952\n",
       "      recall_weighted       0.738095  0.797619  0.761905\n",
       "      roc_auc_ovr_weighted  0.871974  0.860169  0.867857\n",
       "      roc_auc_ovo_weighted  0.839075  0.797379  0.837963"
      ]
     },
     "metadata": {},
     "output_type": "display_data"
    }
   ],
   "source": [
    "# define research space to find best model\n",
    "search_pipelines = pipelines.get_classification_pipelines()\n",
    "search_parameters = models.parameters\n",
    "metrics = ['f1_weighted', 'accuracy', 'balanced_accuracy', 'precision_weighted', 'recall_weighted', 'roc_auc_ovr_weighted', 'roc_auc_ovo_weighted'] \n",
    "\n",
    "best_estimators, best_scores = utils.fit_and_evaluate(X_train, y_train, X_test, y_test,\n",
    "                                                      search_estimators=search_pipelines, \n",
    "                                                      search_params=search_parameters, scoring=metrics)\n",
    "whole_dataset_result_df = pd.DataFrame.from_dict(best_scores, orient='index')\n",
    "whole_dataset_result_df.columns = pd.MultiIndex.from_product([['whole']] + [whole_dataset_result_df.columns])\n",
    "display(whole_dataset_result_df.T)"
   ]
  },
  {
   "cell_type": "markdown",
   "metadata": {},
   "source": [
    "### Augment Data"
   ]
  },
  {
   "cell_type": "markdown",
   "metadata": {},
   "source": [
    "#### Inflate train\n",
    "For rare classes, counterfactulas is having trouble to generate many examples. So to remedy this and spped up the proccess, we randomly sample rare class before our augmentation. By deafult we sample up to 50."
   ]
  },
  {
   "cell_type": "code",
   "execution_count": 23,
   "metadata": {},
   "outputs": [],
   "source": [
    "X_train_inflate, y_train_inflate = utils.infalte_randomly(X_train, y_train)"
   ]
  },
  {
   "cell_type": "markdown",
   "metadata": {},
   "source": [
    "### Augmenting\n",
    "Our DataAugmentor implements several oversampling methods, all model and data agnostics:\n",
    "* Random over sampling\n",
    "* SMOTE\n",
    "* counterfactuals method:\n",
    "  * Randomized sampling\n",
    "  * KD-Tree (for counterfactuals within the training data)\n",
    "  * Genetic algorithm\n",
    "\n",
    "\n",
    "\n",
    "In this case could take several minutes. Obtaining data is hard and expensive, so how much it several minutes for meaningfull improvment? Please wait, Patience pays :) "
   ]
  },
  {
   "cell_type": "markdown",
   "metadata": {},
   "source": [
    "##### define important parameters"
   ]
  },
  {
   "cell_type": "code",
   "execution_count": 24,
   "metadata": {},
   "outputs": [],
   "source": [
    "method = 'cf_genetic'\n",
    "kw_args = {'proximity_weight': 5, 'diversity_weight': 0.2, 'sparsity_weight': 0.2}"
   ]
  },
  {
   "cell_type": "code",
   "execution_count": 25,
   "metadata": {},
   "outputs": [
    {
     "name": "stdout",
     "output_type": "stream",
     "text": [
      "model for cf balanced_accuracy score: {'cf': {'balanced_accuracy': 0.638047138047138}}\n",
      "0/63\n",
      "50/63\n",
      "0/138\n",
      "50/138\n",
      "100/138\n"
     ]
    }
   ],
   "source": [
    "# initialize augmentor\n",
    "if 'cf' in method:\n",
    "    X_train_for_balance_augmemt, y_train_for_balance_augmemt = X_train_inflate, y_train_inflate\n",
    "else:\n",
    "    X_train_for_balance_augmemt, y_train_for_balance_augmemt = X_train, y_train\n",
    "\n",
    "augmentor = DataAugmentor(X_train_for_balance_augmemt, y_train_for_balance_augmemt, X_test, y_test,\n",
    "                            method=method, regression=False,\n",
    "                            continuous_feats=continuous_features,\n",
    "                            cf_scoring='balanced_accuracy',#f1_weighted\n",
    "                            kw_args=kw_args\n",
    "                            )\n",
    "X_train_augmented, y_train_augmented = augmentor.augment(balance=True)"
   ]
  },
  {
   "cell_type": "markdown",
   "metadata": {},
   "source": [
    "### Train model on new augmented data"
   ]
  },
  {
   "cell_type": "code",
   "execution_count": 26,
   "metadata": {},
   "outputs": [
    {
     "data": {
      "text/html": [
       "<div>\n",
       "<style scoped>\n",
       "    .dataframe tbody tr th:only-of-type {\n",
       "        vertical-align: middle;\n",
       "    }\n",
       "\n",
       "    .dataframe tbody tr th {\n",
       "        vertical-align: top;\n",
       "    }\n",
       "\n",
       "    .dataframe thead th {\n",
       "        text-align: right;\n",
       "    }\n",
       "</style>\n",
       "<table border=\"1\" class=\"dataframe\">\n",
       "  <thead>\n",
       "    <tr style=\"text-align: right;\">\n",
       "      <th></th>\n",
       "      <th></th>\n",
       "      <th>lg</th>\n",
       "      <th>rf</th>\n",
       "      <th>xgb</th>\n",
       "    </tr>\n",
       "  </thead>\n",
       "  <tbody>\n",
       "    <tr>\n",
       "      <th rowspan=\"7\" valign=\"top\">cf_genetic</th>\n",
       "      <th>f1_weighted</th>\n",
       "      <td>0.704654</td>\n",
       "      <td>0.711372</td>\n",
       "      <td>0.747298</td>\n",
       "    </tr>\n",
       "    <tr>\n",
       "      <th>accuracy</th>\n",
       "      <td>0.690476</td>\n",
       "      <td>0.690476</td>\n",
       "      <td>0.750000</td>\n",
       "    </tr>\n",
       "    <tr>\n",
       "      <th>balanced_accuracy</th>\n",
       "      <td>0.644781</td>\n",
       "      <td>0.562290</td>\n",
       "      <td>0.598485</td>\n",
       "    </tr>\n",
       "    <tr>\n",
       "      <th>precision_weighted</th>\n",
       "      <td>0.778307</td>\n",
       "      <td>0.746468</td>\n",
       "      <td>0.745281</td>\n",
       "    </tr>\n",
       "    <tr>\n",
       "      <th>recall_weighted</th>\n",
       "      <td>0.690476</td>\n",
       "      <td>0.690476</td>\n",
       "      <td>0.750000</td>\n",
       "    </tr>\n",
       "    <tr>\n",
       "      <th>roc_auc_ovr_weighted</th>\n",
       "      <td>0.875050</td>\n",
       "      <td>0.852778</td>\n",
       "      <td>0.848313</td>\n",
       "    </tr>\n",
       "    <tr>\n",
       "      <th>roc_auc_ovo_weighted</th>\n",
       "      <td>0.851837</td>\n",
       "      <td>0.815506</td>\n",
       "      <td>0.797198</td>\n",
       "    </tr>\n",
       "  </tbody>\n",
       "</table>\n",
       "</div>"
      ],
      "text/plain": [
       "                                       lg        rf       xgb\n",
       "cf_genetic f1_weighted           0.704654  0.711372  0.747298\n",
       "           accuracy              0.690476  0.690476  0.750000\n",
       "           balanced_accuracy     0.644781  0.562290  0.598485\n",
       "           precision_weighted    0.778307  0.746468  0.745281\n",
       "           recall_weighted       0.690476  0.690476  0.750000\n",
       "           roc_auc_ovr_weighted  0.875050  0.852778  0.848313\n",
       "           roc_auc_ovo_weighted  0.851837  0.815506  0.797198"
      ]
     },
     "metadata": {},
     "output_type": "display_data"
    }
   ],
   "source": [
    "best_estimators_augmented, best_scores_augmented = utils.fit_and_evaluate(X_train_augmented,\n",
    "                                                                          y_train_augmented,\n",
    "                                                                          X_test, y_test,\n",
    "                                                                          search_estimators=search_pipelines,\n",
    "                                                                          search_params=search_parameters,\n",
    "                                                                          scoring=metrics)\n",
    "result_df_augmented = pd.DataFrame.from_dict(best_scores_augmented, orient='index')\n",
    "result_df_augmented.columns = pd.MultiIndex.from_product([[f'{method}']] + [result_df_augmented.columns])\n",
    "display(result_df_augmented.T)"
   ]
  }
 ],
 "metadata": {
  "kernelspec": {
   "display_name": "base",
   "language": "python",
   "name": "python3"
  },
  "language_info": {
   "codemirror_mode": {
    "name": "ipython",
    "version": 3
   },
   "file_extension": ".py",
   "mimetype": "text/x-python",
   "name": "python",
   "nbconvert_exporter": "python",
   "pygments_lexer": "ipython3",
   "version": "3.9.13"
  }
 },
 "nbformat": 4,
 "nbformat_minor": 2
}
